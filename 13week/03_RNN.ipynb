{
 "cells": [
  {
   "cell_type": "markdown",
   "id": "6f71de91",
   "metadata": {},
   "source": [
    "### RNN : Recursive Neural Netowrk : 순환신경망\n",
    "#### - 출력데이터를 다시 자기 자신 계층으로 전달해서 훈련을 강화한 모델\n",
    "#### - 어떤 샘플을 처리할 때 바로 이전에 사용했던 데이터를 재사용하는 신경망\n",
    "#### - RNN은 주로 텍스트분류에 자주 사용\n",
    "#### - RNN은 SimpleRNN에서 시작해서 향상된 LSTM, GRU 등등의 모델계층이 만들어져 있음\n",
    "---\n",
    "### IMDB 영화 리뷰 감상평(긍정/부정) 분류\n",
    "#### - 총 5만개 데이터 사용\n",
    "#### - 훈련 및 테스트에 2만 5천건씩\n",
    "#### - num_words : 전체 데이터셋에서 가장 자주 등장하는 말뭉치 단어 상위 500개의 데이터를 기준으로 분류를 처리하겠다는 의미\n",
    "#### - 말뭉치 500개를 기준으로 각 데이터 내에 단어와 매칭하여 훈련 및 테스트 데이터를 반환해 줌\n",
    "#### - 말뭉치 500개는 훈련시에 사용하게 됨\n",
    "#### - 단어(텍스트) 기반의 데이터 차원은 1차원임"
   ]
  },
  {
   "cell_type": "code",
   "execution_count": 1,
   "id": "5fdd35c2",
   "metadata": {},
   "outputs": [],
   "source": [
    "from tensorflow.keras.datasets import imdb"
   ]
  },
  {
   "cell_type": "code",
   "execution_count": 2,
   "id": "01ec533e",
   "metadata": {},
   "outputs": [
    {
     "name": "stdout",
     "output_type": "stream",
     "text": [
      "Downloading data from https://storage.googleapis.com/tensorflow/tf-keras-datasets/imdb.npz\n",
      "17465344/17464789 [==============================] - 2s 0us/step\n",
      "17473536/17464789 [==============================] - 2s 0us/step\n",
      "(25000,) (25000,)\n",
      "(25000,) (25000,)\n"
     ]
    }
   ],
   "source": [
    "(train_input, train_target),(test_input, test_target) = imdb.load_data(num_words=500)\n",
    "print(train_input.shape, train_target.shape)\n",
    "print(test_input.shape, test_target.shape)"
   ]
  },
  {
   "cell_type": "code",
   "execution_count": 3,
   "id": "1a23a383",
   "metadata": {},
   "outputs": [
    {
     "data": {
      "text/plain": [
       "array([list([1, 14, 22, 16, 43, 2, 2, 2, 2, 65, 458, 2, 66, 2, 4, 173, 36, 256, 5, 25, 100, 43, 2, 112, 50, 2, 2, 9, 35, 480, 284, 5, 150, 4, 172, 112, 167, 2, 336, 385, 39, 4, 172, 2, 2, 17, 2, 38, 13, 447, 4, 192, 50, 16, 6, 147, 2, 19, 14, 22, 4, 2, 2, 469, 4, 22, 71, 87, 12, 16, 43, 2, 38, 76, 15, 13, 2, 4, 22, 17, 2, 17, 12, 16, 2, 18, 2, 5, 62, 386, 12, 8, 316, 8, 106, 5, 4, 2, 2, 16, 480, 66, 2, 33, 4, 130, 12, 16, 38, 2, 5, 25, 124, 51, 36, 135, 48, 25, 2, 33, 6, 22, 12, 215, 28, 77, 52, 5, 14, 407, 16, 82, 2, 8, 4, 107, 117, 2, 15, 256, 4, 2, 7, 2, 5, 2, 36, 71, 43, 2, 476, 26, 400, 317, 46, 7, 4, 2, 2, 13, 104, 88, 4, 381, 15, 297, 98, 32, 2, 56, 26, 141, 6, 194, 2, 18, 4, 226, 22, 21, 134, 476, 26, 480, 5, 144, 30, 2, 18, 51, 36, 28, 224, 92, 25, 104, 4, 226, 65, 16, 38, 2, 88, 12, 16, 283, 5, 16, 2, 113, 103, 32, 15, 16, 2, 19, 178, 32]),\n",
       "       list([1, 194, 2, 194, 2, 78, 228, 5, 6, 2, 2, 2, 134, 26, 4, 2, 8, 118, 2, 14, 394, 20, 13, 119, 2, 189, 102, 5, 207, 110, 2, 21, 14, 69, 188, 8, 30, 23, 7, 4, 249, 126, 93, 4, 114, 9, 2, 2, 5, 2, 4, 116, 9, 35, 2, 4, 229, 9, 340, 2, 4, 118, 9, 4, 130, 2, 19, 4, 2, 5, 89, 29, 2, 46, 37, 4, 455, 9, 45, 43, 38, 2, 2, 398, 4, 2, 26, 2, 5, 163, 11, 2, 2, 4, 2, 9, 194, 2, 7, 2, 2, 349, 2, 148, 2, 2, 2, 15, 123, 125, 68, 2, 2, 15, 349, 165, 2, 98, 5, 4, 228, 9, 43, 2, 2, 15, 299, 120, 5, 120, 174, 11, 220, 175, 136, 50, 9, 2, 228, 2, 5, 2, 2, 245, 2, 5, 4, 2, 131, 152, 491, 18, 2, 32, 2, 2, 14, 9, 6, 371, 78, 22, 2, 64, 2, 9, 8, 168, 145, 23, 4, 2, 15, 16, 4, 2, 5, 28, 6, 52, 154, 462, 33, 89, 78, 285, 16, 145, 95]),\n",
       "       list([1, 14, 47, 8, 30, 31, 7, 4, 249, 108, 7, 4, 2, 54, 61, 369, 13, 71, 149, 14, 22, 112, 4, 2, 311, 12, 16, 2, 33, 75, 43, 2, 296, 4, 86, 320, 35, 2, 19, 263, 2, 2, 4, 2, 33, 89, 78, 12, 66, 16, 4, 360, 7, 4, 58, 316, 334, 11, 4, 2, 43, 2, 2, 8, 257, 85, 2, 42, 2, 2, 83, 68, 2, 15, 36, 165, 2, 278, 36, 69, 2, 2, 8, 106, 14, 2, 2, 18, 6, 22, 12, 215, 28, 2, 40, 6, 87, 326, 23, 2, 21, 23, 22, 12, 272, 40, 57, 31, 11, 4, 22, 47, 6, 2, 51, 9, 170, 23, 2, 116, 2, 2, 13, 191, 79, 2, 89, 2, 14, 9, 8, 106, 2, 2, 35, 2, 6, 227, 7, 129, 113]),\n",
       "       ...,\n",
       "       list([1, 11, 6, 230, 245, 2, 9, 6, 2, 446, 2, 45, 2, 84, 2, 2, 21, 4, 2, 84, 2, 325, 2, 134, 2, 2, 84, 5, 36, 28, 57, 2, 21, 8, 140, 8, 2, 5, 2, 84, 56, 18, 2, 14, 9, 31, 7, 4, 2, 2, 2, 2, 2, 18, 6, 20, 207, 110, 2, 12, 8, 2, 2, 8, 97, 6, 20, 53, 2, 74, 4, 460, 364, 2, 29, 270, 11, 2, 108, 45, 40, 29, 2, 395, 11, 6, 2, 2, 7, 2, 89, 364, 70, 29, 140, 4, 64, 2, 11, 4, 2, 26, 178, 4, 2, 443, 2, 5, 27, 2, 117, 2, 2, 165, 47, 84, 37, 131, 2, 14, 2, 10, 10, 61, 2, 2, 10, 10, 288, 2, 2, 34, 2, 2, 4, 65, 496, 4, 231, 7, 2, 5, 6, 320, 234, 2, 234, 2, 2, 7, 496, 4, 139, 2, 2, 2, 2, 5, 2, 18, 4, 2, 2, 250, 11, 2, 2, 4, 2, 2, 2, 2, 372, 2, 2, 2, 2, 7, 4, 59, 2, 4, 2, 2]),\n",
       "       list([1, 2, 2, 69, 72, 2, 13, 2, 2, 8, 12, 2, 23, 5, 16, 484, 2, 54, 349, 11, 2, 2, 45, 58, 2, 13, 197, 12, 16, 43, 23, 2, 5, 62, 30, 145, 402, 11, 2, 51, 2, 32, 61, 369, 71, 66, 2, 12, 2, 75, 100, 2, 8, 4, 105, 37, 69, 147, 2, 75, 2, 44, 257, 390, 5, 69, 263, 2, 105, 50, 286, 2, 23, 4, 123, 13, 161, 40, 5, 421, 4, 116, 16, 2, 13, 2, 40, 319, 2, 112, 2, 11, 2, 121, 25, 70, 2, 4, 2, 2, 13, 18, 31, 62, 40, 8, 2, 4, 2, 7, 14, 123, 5, 2, 25, 8, 2, 12, 145, 5, 202, 12, 160, 2, 202, 12, 6, 52, 58, 2, 92, 401, 2, 12, 39, 14, 251, 8, 15, 251, 5, 2, 12, 38, 84, 80, 124, 12, 9, 23]),\n",
       "       list([1, 17, 6, 194, 337, 7, 4, 204, 22, 45, 254, 8, 106, 14, 123, 4, 2, 270, 2, 5, 2, 2, 2, 2, 101, 405, 39, 14, 2, 4, 2, 9, 115, 50, 305, 12, 47, 4, 168, 5, 235, 7, 38, 111, 2, 102, 7, 4, 2, 2, 9, 24, 6, 78, 2, 17, 2, 2, 21, 27, 2, 2, 5, 2, 2, 92, 2, 4, 2, 7, 4, 204, 42, 97, 90, 35, 221, 109, 29, 127, 27, 118, 8, 97, 12, 157, 21, 2, 2, 9, 6, 66, 78, 2, 4, 2, 2, 5, 2, 272, 191, 2, 6, 2, 8, 2, 2, 2, 2, 5, 383, 2, 2, 2, 2, 497, 2, 8, 2, 2, 2, 21, 60, 27, 239, 9, 43, 2, 209, 405, 10, 10, 12, 2, 40, 4, 248, 20, 12, 16, 5, 174, 2, 72, 7, 51, 6, 2, 22, 4, 204, 131, 9])],\n",
       "      dtype=object)"
      ]
     },
     "execution_count": 3,
     "metadata": {},
     "output_type": "execute_result"
    }
   ],
   "source": [
    "train_input"
   ]
  },
  {
   "cell_type": "code",
   "execution_count": 4,
   "id": "ea921dd2",
   "metadata": {},
   "outputs": [
    {
     "data": {
      "text/plain": [
       "array([1, 0, 0, ..., 0, 1, 0], dtype=int64)"
      ]
     },
     "execution_count": 4,
     "metadata": {},
     "output_type": "execute_result"
    }
   ],
   "source": [
    "# 1: 긍정, 0: 부정\n",
    "train_target"
   ]
  },
  {
   "cell_type": "code",
   "execution_count": 7,
   "id": "3b93aae0",
   "metadata": {},
   "outputs": [
    {
     "data": {
      "text/plain": [
       "(218, 189)"
      ]
     },
     "execution_count": 7,
     "metadata": {},
     "output_type": "execute_result"
    }
   ],
   "source": [
    "len(train_input[0]),len(train_input[1])"
   ]
  },
  {
   "cell_type": "markdown",
   "id": "2c3443f1",
   "metadata": {},
   "source": [
    "###  각 문장의 길이가 다르므로 훈련전에 길이를 통일시켜야 함\n"
   ]
  },
  {
   "cell_type": "code",
   "execution_count": null,
   "id": "911e2992",
   "metadata": {},
   "outputs": [],
   "source": [
    "from sklearn.model_selection import train_test_split"
   ]
  },
  {
   "cell_type": "code",
   "execution_count": 8,
   "id": "2d9ebe0b",
   "metadata": {},
   "outputs": [
    {
     "data": {
      "text/plain": [
       "((20000,), (5000,), (20000,), (5000,))"
      ]
     },
     "execution_count": 8,
     "metadata": {},
     "output_type": "execute_result"
    }
   ],
   "source": [
    "from sklearn.model_selection import train_test_split\n",
    "train_input, val_input, train_target, val_target = train_test_split(train_input, train_target, test_size=0.2, random_state=42)\n",
    "\n",
    "train_input.shape, val_input.shape, train_target.shape, val_target.shape"
   ]
  },
  {
   "cell_type": "markdown",
   "id": "3f6adf82",
   "metadata": {},
   "source": [
    "### 데이터 정규화 \n",
    "#### 단어갯수 정규화\n",
    "#### - 각 문자의 길이가 다르면 훈련에 적용이 안됨(차원이 다름)\n",
    "####  단어의 갯수를 통일(정규화) 시키기 위한 작업으로는 평균, 중간값, 최소 길이를 확인하여\n",
    "####  가장 적합한 갯수를 사람이 결정해야 함\n",
    "#### - 확인하는 방법 붕에 평균과 중간값을 이용하여 확인하는 것이 빠르게 결정할 수 있음\n",
    "\n",
    "---\n",
    "\n",
    "#### 각 문장(샘플)의 길이를 넘파이 배열로 추출"
   ]
  },
  {
   "cell_type": "code",
   "execution_count": 11,
   "id": "3bf3fcc4",
   "metadata": {},
   "outputs": [
    {
     "data": {
      "text/plain": [
       "(array([259, 520, 290, ..., 300,  70,  77]), (20000,))"
      ]
     },
     "execution_count": 11,
     "metadata": {},
     "output_type": "execute_result"
    }
   ],
   "source": [
    "import numpy as np\n",
    "lengths = np.array([len(x) for x in train_input])\n",
    "lengths, lengths.shape"
   ]
  },
  {
   "cell_type": "markdown",
   "id": "81fac21b",
   "metadata": {},
   "source": [
    "#### 전체 평균과 중간값 확인"
   ]
  },
  {
   "cell_type": "code",
   "execution_count": 12,
   "id": "a5d2b277",
   "metadata": {},
   "outputs": [
    {
     "data": {
      "text/plain": [
       "(239.00925, 178.0)"
      ]
     },
     "execution_count": 12,
     "metadata": {},
     "output_type": "execute_result"
    }
   ],
   "source": [
    "np.mean(lengths), np.median(lengths)"
   ]
  },
  {
   "cell_type": "markdown",
   "id": "a1c3c246",
   "metadata": {},
   "source": [
    "#### 그래프로 값 편중도 확인\n",
    "####  - 중앙값이 평군보다 작기 때문에 한쪽(왼쪽)으로 길이의 편중이 심해보임"
   ]
  },
  {
   "cell_type": "code",
   "execution_count": 13,
   "id": "2f71bfc6",
   "metadata": {},
   "outputs": [
    {
     "data": {
      "image/png": "[encoded data removed]",
      "text/plain": [
       "<Figure size 640x480 with 1 Axes>"
      ]
     },
     "metadata": {},
     "output_type": "display_data"
    }
   ],
   "source": [
    "import matplotlib.pyplot as plt\n",
    "from matplotlib import font_manager, rc\n",
    "plt.rc('font', family = 'Malgun Gothic')\n",
    "\n",
    "# 히스토그램 그리기\n",
    "plt.hist(lengths)\n",
    "plt.xlabel('lengths길이')\n",
    "plt.ylabel('빈도')\n",
    "plt.grid()\n",
    "plt.show()"
   ]
  },
  {
   "cell_type": "markdown",
   "id": "acf987a9",
   "metadata": {},
   "source": [
    "#### 각 문장의 길이를 100정도로 통일(정규화)\n",
    "#### - pad_sequences : 데이터의 길이를 고정하는 라이브러리"
   ]
  },
  {
   "cell_type": "code",
   "execution_count": 23,
   "id": "a35fb58e",
   "metadata": {},
   "outputs": [],
   "source": [
    "from tensorflow.keras.preprocessing.sequence import pad_sequences\n"
   ]
  },
  {
   "cell_type": "markdown",
   "id": "73efd606",
   "metadata": {},
   "source": [
    "#### train_seq = pad_sequences(train_input, maxlen = 100)\n",
    "#### pad_sequences : 길이가 100보다 큰 경우는 뒤에서부터 100개를 추출하고 길이가 작은경우는 왼쪽편에 0으로 채움\n",
    "#### padding = 'pre' : 앞쪽 자르기, 'post' : 뒤쪽 자르기   default : pre\n",
    "#### truncating = 'pre' : 앞쪽 채우기, 'post' : 뒤쪽 채우기 default : pre"
   ]
  },
  {
   "cell_type": "code",
   "execution_count": 25,
   "id": "a7718680",
   "metadata": {},
   "outputs": [],
   "source": [
    "train_seq = pad_sequences(train_input, maxlen=100)\n",
    "\n",
    "train_seq = pad_sequences(train_input, \n",
    "                          maxlen=100,\n",
    "                         padding='pre',\n",
    "                         truncating='pre')"
   ]
  },
  {
   "cell_type": "code",
   "execution_count": 16,
   "id": "e31265c4",
   "metadata": {},
   "outputs": [
    {
     "data": {
      "text/plain": [
       "(100, 100)"
      ]
     },
     "execution_count": 16,
     "metadata": {},
     "output_type": "execute_result"
    }
   ],
   "source": [
    "len(train_seq[0]), len(train_seq[1])"
   ]
  },
  {
   "cell_type": "code",
   "execution_count": 17,
   "id": "60503add",
   "metadata": {},
   "outputs": [
    {
     "data": {
      "text/plain": [
       "array([[ 10,   4,  20, ...,  10, 470, 158],\n",
       "       [206,   2,  26, ...,   6,   2,   2],\n",
       "       [  2,   7,   2, ...,   2,   2,  12],\n",
       "       ...,\n",
       "       [  2,  37, 299, ...,   7,  14,   2],\n",
       "       [  0,   0,   0, ...,  25, 170,   2],\n",
       "       [  0,   0,   0, ...,  25, 194,   2]])"
      ]
     },
     "execution_count": 17,
     "metadata": {},
     "output_type": "execute_result"
    }
   ],
   "source": [
    "train_seq"
   ]
  },
  {
   "cell_type": "code",
   "execution_count": 18,
   "id": "1f144a8d",
   "metadata": {},
   "outputs": [
    {
     "data": {
      "text/plain": [
       "(259, 100)"
      ]
     },
     "execution_count": 18,
     "metadata": {},
     "output_type": "execute_result"
    }
   ],
   "source": [
    "len(train_input[0]),len(train_seq[0])"
   ]
  },
  {
   "cell_type": "code",
   "execution_count": 21,
   "id": "148a5bef",
   "metadata": {},
   "outputs": [
    {
     "data": {
      "text/plain": [
       "(77, 100)"
      ]
     },
     "execution_count": 21,
     "metadata": {},
     "output_type": "execute_result"
    }
   ],
   "source": [
    "len(train_input[19999]),len(train_seq[19999])"
   ]
  },
  {
   "cell_type": "code",
   "execution_count": 22,
   "id": "7a262cbf",
   "metadata": {},
   "outputs": [
    {
     "data": {
      "text/plain": [
       "[1,\n",
       " 73,\n",
       " 89,\n",
       " 81,\n",
       " 25,\n",
       " 60,\n",
       " 2,\n",
       " 6,\n",
       " 20,\n",
       " 141,\n",
       " 17,\n",
       " 14,\n",
       " 31,\n",
       " 127,\n",
       " 12,\n",
       " 60,\n",
       " 28,\n",
       " 2,\n",
       " 2,\n",
       " 66,\n",
       " 45,\n",
       " 6,\n",
       " 20,\n",
       " 15,\n",
       " 497,\n",
       " 8,\n",
       " 79,\n",
       " 17,\n",
       " 491,\n",
       " 8,\n",
       " 112,\n",
       " 6,\n",
       " 2,\n",
       " 20,\n",
       " 17,\n",
       " 2,\n",
       " 2,\n",
       " 4,\n",
       " 436,\n",
       " 20,\n",
       " 9,\n",
       " 2,\n",
       " 6,\n",
       " 2,\n",
       " 7,\n",
       " 493,\n",
       " 2,\n",
       " 6,\n",
       " 185,\n",
       " 250,\n",
       " 24,\n",
       " 55,\n",
       " 2,\n",
       " 5,\n",
       " 23,\n",
       " 350,\n",
       " 7,\n",
       " 15,\n",
       " 82,\n",
       " 24,\n",
       " 15,\n",
       " 2,\n",
       " 66,\n",
       " 10,\n",
       " 10,\n",
       " 45,\n",
       " 2,\n",
       " 15,\n",
       " 4,\n",
       " 20,\n",
       " 2,\n",
       " 8,\n",
       " 30,\n",
       " 17,\n",
       " 2,\n",
       " 5,\n",
       " 2,\n",
       " 17,\n",
       " 2,\n",
       " 190,\n",
       " 4,\n",
       " 20,\n",
       " 9,\n",
       " 43,\n",
       " 32,\n",
       " 99,\n",
       " 2,\n",
       " 18,\n",
       " 15,\n",
       " 8,\n",
       " 157,\n",
       " 46,\n",
       " 17,\n",
       " 2,\n",
       " 4,\n",
       " 2,\n",
       " 5,\n",
       " 2,\n",
       " 9,\n",
       " 32,\n",
       " 2,\n",
       " 5,\n",
       " 2,\n",
       " 267,\n",
       " 17,\n",
       " 73,\n",
       " 17,\n",
       " 2,\n",
       " 36,\n",
       " 26,\n",
       " 400,\n",
       " 43,\n",
       " 2,\n",
       " 83,\n",
       " 4,\n",
       " 2,\n",
       " 247,\n",
       " 74,\n",
       " 83,\n",
       " 4,\n",
       " 250,\n",
       " 2,\n",
       " 82,\n",
       " 4,\n",
       " 96,\n",
       " 4,\n",
       " 250,\n",
       " 2,\n",
       " 8,\n",
       " 32,\n",
       " 4,\n",
       " 2,\n",
       " 9,\n",
       " 184,\n",
       " 2,\n",
       " 13,\n",
       " 384,\n",
       " 48,\n",
       " 14,\n",
       " 16,\n",
       " 147,\n",
       " 2,\n",
       " 59,\n",
       " 62,\n",
       " 69,\n",
       " 2,\n",
       " 12,\n",
       " 46,\n",
       " 50,\n",
       " 9,\n",
       " 53,\n",
       " 2,\n",
       " 74,\n",
       " 2,\n",
       " 11,\n",
       " 14,\n",
       " 31,\n",
       " 151,\n",
       " 10,\n",
       " 10,\n",
       " 4,\n",
       " 20,\n",
       " 9,\n",
       " 2,\n",
       " 364,\n",
       " 352,\n",
       " 5,\n",
       " 45,\n",
       " 6,\n",
       " 2,\n",
       " 2,\n",
       " 33,\n",
       " 269,\n",
       " 8,\n",
       " 2,\n",
       " 142,\n",
       " 2,\n",
       " 5,\n",
       " 2,\n",
       " 17,\n",
       " 73,\n",
       " 17,\n",
       " 204,\n",
       " 5,\n",
       " 2,\n",
       " 19,\n",
       " 55,\n",
       " 2,\n",
       " 2,\n",
       " 92,\n",
       " 66,\n",
       " 104,\n",
       " 14,\n",
       " 20,\n",
       " 93,\n",
       " 76,\n",
       " 2,\n",
       " 151,\n",
       " 33,\n",
       " 4,\n",
       " 58,\n",
       " 12,\n",
       " 188,\n",
       " 2,\n",
       " 151,\n",
       " 12,\n",
       " 215,\n",
       " 69,\n",
       " 224,\n",
       " 142,\n",
       " 73,\n",
       " 237,\n",
       " 6,\n",
       " 2,\n",
       " 7,\n",
       " 2,\n",
       " 2,\n",
       " 188,\n",
       " 2,\n",
       " 103,\n",
       " 14,\n",
       " 31,\n",
       " 10,\n",
       " 10,\n",
       " 451,\n",
       " 7,\n",
       " 2,\n",
       " 5,\n",
       " 2,\n",
       " 80,\n",
       " 91,\n",
       " 2,\n",
       " 30,\n",
       " 2,\n",
       " 34,\n",
       " 14,\n",
       " 20,\n",
       " 151,\n",
       " 50,\n",
       " 26,\n",
       " 131,\n",
       " 49,\n",
       " 2,\n",
       " 84,\n",
       " 46,\n",
       " 50,\n",
       " 37,\n",
       " 80,\n",
       " 79,\n",
       " 6,\n",
       " 2,\n",
       " 46,\n",
       " 7,\n",
       " 14,\n",
       " 20,\n",
       " 10,\n",
       " 10,\n",
       " 470,\n",
       " 158]"
      ]
     },
     "execution_count": 22,
     "metadata": {},
     "output_type": "execute_result"
    }
   ],
   "source": [
    "train_input[0]"
   ]
  },
  {
   "cell_type": "markdown",
   "id": "fb9e947e",
   "metadata": {},
   "source": [
    "### 순환신경망 생성\n",
    "#### - 순환신경망 처리방식 2가지\n",
    "#### 1. 원핫 인코딩 방식\n",
    "#### - 1개의 단어 분석을 위해 500개의 원핫인코딩된 데이터 사용\n",
    "#### - 너무 많은 공간이 필요한 단점이 있음\n",
    "#### - 원핫인코딩은 keras.util.to_categorical()함수를 사용하여 데이터 생성\n",
    "\n",
    "#### 2. 단어 임베딩 방식\n",
    "#### - 원핫인코딩 방식을 개선한 방법\n",
    "#### - 많은 공간을 필요로 하지 않음\n",
    "#### - 임베딩 레이어 계층을 사용하여 자동으로 처리]\n",
    "#### - keras.layers.Embedding()계층을 추가하여 사용\n",
    "---\n",
    "### 모델생성"
   ]
  },
  {
   "cell_type": "code",
   "execution_count": 26,
   "id": "f9c9993f",
   "metadata": {},
   "outputs": [],
   "source": [
    "from tensorflow import keras\n"
   ]
  },
  {
   "cell_type": "code",
   "execution_count": 27,
   "id": "4667c154",
   "metadata": {},
   "outputs": [],
   "source": [
    "model = keras.Sequential()"
   ]
  },
  {
   "cell_type": "markdown",
   "id": "4d42bd40",
   "metadata": {},
   "source": [
    "#### RNN 계층추가\n",
    "#### - 첫번째 인자 8 : 사용할 뉴런 출력으로 사용할 데이터(종속변수) 갯수\n",
    "#### - 두번째 인자 100 : 샘플(문장) 각각의 단어 갯수\n",
    "####                       500 : 사용할 말뭉치 갯수\n",
    "####                       500개 말뭉치 공간에는 원핫인코딩된 데이터 들어갈 공간임"
   ]
  },
  {
   "cell_type": "code",
   "execution_count": 28,
   "id": "cd6c841f",
   "metadata": {},
   "outputs": [],
   "source": [
    "model.add(keras.layers.SimpleRNN(8, input_shape=(100,500)))"
   ]
  },
  {
   "cell_type": "markdown",
   "id": "9553593a",
   "metadata": {},
   "source": [
    "#### 출력계층 추가하기"
   ]
  },
  {
   "cell_type": "code",
   "execution_count": 29,
   "id": "81ea7dce",
   "metadata": {},
   "outputs": [],
   "source": [
    "model.add(keras.layers.Dense(1, activation='sigmoid'))"
   ]
  },
  {
   "cell_type": "code",
   "execution_count": null,
   "id": "c22070a5",
   "metadata": {},
   "outputs": [],
   "source": []
  },
  {
   "cell_type": "code",
   "execution_count": 31,
   "id": "7b66cc63",
   "metadata": {},
   "outputs": [],
   "source": []
  },
  {
   "cell_type": "code",
   "execution_count": null,
   "id": "f5a5bae9",
   "metadata": {},
   "outputs": [],
   "source": []
  },
  {
   "cell_type": "code",
   "execution_count": null,
   "id": "443de84f",
   "metadata": {},
   "outputs": [],
   "source": []
  },
  {
   "cell_type": "code",
   "execution_count": null,
   "id": "19377ceb",
   "metadata": {},
   "outputs": [],
   "source": []
  },
  {
   "cell_type": "code",
   "execution_count": null,
   "id": "81c218e4",
   "metadata": {},
   "outputs": [],
   "source": []
  }
 ],
 "metadata": {
  "kernelspec": {
   "display_name": "all_env_kernel",
   "language": "python",
   "name": "all_env"
  },
  "language_info": {
   "codemirror_mode": {
    "name": "ipython",
    "version": 3
   },
   "file_extension": ".py",
   "mimetype": "text/x-python",
   "name": "python",
   "nbconvert_exporter": "python",
   "pygments_lexer": "ipython3",
   "version": "3.9.16"
  }
 },
 "nbformat": 4,
 "nbformat_minor": 5
}
