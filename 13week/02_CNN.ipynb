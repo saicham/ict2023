{
 "cells": [
  {
   "cell_type": "markdown",
   "id": "4dcfd69d",
   "metadata": {},
   "source": [
    "### CNN : Convolution neural network : 합성곱 신경망\n",
    "#### - 주로 이미지 분류에 사용\n",
    "#### - 딥러닝의 가장 대표적인 방법\n",
    "#### - 지금까지 진행된 신경망은 인공신경망의 핵심 모델\n",
    "\n",
    "#### - 인공신경망의 핵심 계층 사이 사이에 새롭게 나온 신경망(CNN)계층이 추가되는 형태로 사용됨\n",
    "\n",
    "#### - 인공신경망은 1차원 형태의 데이터에서 특징을 찾았다면\n",
    "#### - CNN은 차원을 그대로 적용하여 특징을 찾는 방법을 적용한 알고리즘\n",
    "#### - 사람이 개입하지 않음(CNN 알고리즘이 알아서 처리)\n",
    "\n",
    "#### - 1차원의 경우 공간정보 유실 발생, 이를 극복한것이 CNN(형태 그대로)\n",
    "\n",
    "#### [ CNN과 인공신경망 모델의 차이점 ]\n",
    "#### - 각 레이어의 입출력 데이터의 형상을 그대로 유지\n",
    "#### - 이미지의 공간 정보를 유지하면서 인접 이미지와의 특징을 효과적으로 인식할 수 있음\n",
    "#### - 복수의 \" 필터\"를 사용하여 이미지의 특징을 추출하고 학습함\n",
    "#### - 인공신경망괴 비교했을 때 사용되는 파라미터(데이터건수)가 작음\n",
    "#### - 기존 인공신경망 모델을 향상시킨 모델\n",
    "\n",
    "### 패션이미지 데이터 불러오기(MNIST)"
   ]
  },
  {
   "cell_type": "code",
   "execution_count": 1,
   "id": "bebe3c31",
   "metadata": {},
   "outputs": [],
   "source": [
    "from tensorflow import keras\n",
    "from sklearn.model_selection import train_test_split"
   ]
  },
  {
   "cell_type": "code",
   "execution_count": 2,
   "id": "09f2fa3e",
   "metadata": {},
   "outputs": [],
   "source": [
    "(train_input, train_target), (test_input, test_target) = keras.datasets.fashion_mnist.load_data()"
   ]
  },
  {
   "cell_type": "code",
   "execution_count": 3,
   "id": "9c3a9c42",
   "metadata": {},
   "outputs": [
    {
     "name": "stdout",
     "output_type": "stream",
     "text": [
      "(60000, 28, 28) (60000,)\n",
      "(10000, 28, 28) (10000,)\n"
     ]
    }
   ],
   "source": [
    "print(train_input.shape, train_target.shape)\n",
    "print(test_input.shape, test_target.shape)"
   ]
  },
  {
   "cell_type": "markdown",
   "id": "f4cbe24d",
   "metadata": {},
   "source": [
    "####  CNN에서 사용되는 데이터 차원\n",
    "#### - 훈련을 위해서는 입력데이터는 4차원으로 변환 후 정규화를 해야 함\n",
    "#### - 합성곱 연산은 2차원 연산이 일어나며, 이를 위해 4차원(축, 이미지높이, 이미지너비, 컬러태널)로 변환 필요\n",
    "\n",
    "#### [ 컬러채널 ]\n",
    "#### - 컬러색상 : 3채널(R, G B) 3개 사용\n",
    "#### - 흑백색상 : 1채널 1개 사용\n",
    "---\n",
    "\n",
    "#### 4차원으로 변환하기/ 정규화"
   ]
  },
  {
   "cell_type": "code",
   "execution_count": 4,
   "id": "77974649",
   "metadata": {},
   "outputs": [
    {
     "data": {
      "text/plain": [
       "(60000, 28, 28, 1)"
      ]
     },
     "execution_count": 4,
     "metadata": {},
     "output_type": "execute_result"
    }
   ],
   "source": [
    "train_scaled = train_input.reshape(-1,28,28,1) /255.0  # (행, 높이, 너비, 색상채널 - 흑백이므로 1)\n",
    "train_scaled.shape"
   ]
  },
  {
   "cell_type": "code",
   "execution_count": 5,
   "id": "1db2cbe5",
   "metadata": {},
   "outputs": [
    {
     "data": {
      "text/plain": [
       "((48000, 28, 28, 1), (12000, 28, 28, 1), (48000,), (12000,))"
      ]
     },
     "execution_count": 5,
     "metadata": {},
     "output_type": "execute_result"
    }
   ],
   "source": [
    "from sklearn.model_selection import train_test_split\n",
    "train_scaled, val_sclaed, train_target, val_target = train_test_split(train_scaled, train_target, test_size=0.2, random_state=42)\n",
    "\n",
    "train_scaled.shape, val_sclaed.shape, train_target.shape, val_target.shape"
   ]
  },
  {
   "cell_type": "markdown",
   "id": "767631aa",
   "metadata": {},
   "source": [
    "#### 합성곱신경망 모델 생성\n",
    "#### - "
   ]
  },
  {
   "cell_type": "code",
   "execution_count": 6,
   "id": "10d4067b",
   "metadata": {},
   "outputs": [],
   "source": [
    "model = keras.Sequential()"
   ]
  },
  {
   "cell_type": "markdown",
   "id": "5f46b2f6",
   "metadata": {},
   "source": [
    "#### CNN 계층 추가\n",
    "#### - kernel_size : 3 * 3(CNN이 알아서 3행 3열의 임의의 값이 설정된 픽셀값과 원래 데이터를 연산)\n",
    "#### - filters : 커널사이즈 크기로 추출할 갯수, 많을 수록 많은 특징을 추출할 수 있지만 속도가 느려짐\n",
    "#### - padding : 경계 처리 방법을 정의함, \n",
    "#### : same : 출력 이미지 사이즈가 입력 이미지사이즈와 동일하게 처리, 이미지 사이즈가 같지않을 경우 빈 공간에는 빈값을 넣음\n",
    "#### : valid : 입력 이미지 사이즈보다 작아짐\n",
    "#### - stride : 필터가 특징을 추출하는 과정에서 커널을 몇칸씩 옆으로 이동할 것인지 지정하는 속성(기본값 1)\n",
    "----\n",
    "### 최초 입력계층에만 Input_shape사용"
   ]
  },
  {
   "cell_type": "code",
   "execution_count": 7,
   "id": "d35a92ae",
   "metadata": {},
   "outputs": [
    {
     "data": {
      "text/plain": [
       "<keras.engine.sequential.Sequential at 0x16a1bac6bb0>"
      ]
     },
     "execution_count": 7,
     "metadata": {},
     "output_type": "execute_result"
    }
   ],
   "source": [
    "model.add(keras.layers.Conv2D(filters=32,\n",
    "                             kernel_size=3,\n",
    "                             activation='relu',\n",
    "                             padding='same',\n",
    "                             input_shape=(28,28,1)))\n",
    "\n",
    "model"
   ]
  },
  {
   "cell_type": "markdown",
   "id": "f2d70879",
   "metadata": {},
   "source": [
    "#### 은닉계층 추가하기\n",
    "#### - 최대 폴링 레이어(MaxPooling2D()) 계층 추가하기\n",
    "#### - 훈련에 사용되지 않으며 데이터 추출을 위한 전처리 계층임\n",
    "#### - Conv2D 계층과 함께 주로 사용\n",
    "#### - 매우 많이 사용되는 계층\n",
    "#### - keras.layers.MaxPool2D(pool_size =(2,2), strides=(2,2))\n",
    "#### : pool_size -  연산 범위를 의미하며 해당 범위내의 가장 큰 수만을 추출, 픽셀에서 숫자값이 클수록 색상이 진함(특징이 뚜렷)\n",
    "#### : strides - 연산의 범위만큼 오른쪽 아래로 지정된 값(기본값 1씩)만큼 이동\n",
    "---\n",
    "#### 아래 2라는 값 = pool_size(2,2)와 같음"
   ]
  },
  {
   "cell_type": "code",
   "execution_count": 8,
   "id": "7328abc3",
   "metadata": {},
   "outputs": [],
   "source": [
    "model.add(keras.layers.MaxPool2D(2))"
   ]
  },
  {
   "cell_type": "code",
   "execution_count": 9,
   "id": "7b27548d",
   "metadata": {},
   "outputs": [
    {
     "data": {
      "text/plain": [
       "<keras.engine.sequential.Sequential at 0x16a1bac6bb0>"
      ]
     },
     "execution_count": 9,
     "metadata": {},
     "output_type": "execute_result"
    }
   ],
   "source": [
    "# 다시 CNN 계층 추가\n",
    "model.add(keras.layers.Conv2D(filters=64,\n",
    "                             kernel_size=(3,3),\n",
    "                             activation='relu',\n",
    "                             padding='same',\n",
    "                             strides=1))\n",
    "\n",
    "model"
   ]
  },
  {
   "cell_type": "code",
   "execution_count": 10,
   "id": "67fd2236",
   "metadata": {},
   "outputs": [
    {
     "name": "stdout",
     "output_type": "stream",
     "text": [
      "Model: \"sequential\"\n",
      "_________________________________________________________________\n",
      " Layer (type)                Output Shape              Param #   \n",
      "=================================================================\n",
      " conv2d (Conv2D)             (None, 28, 28, 32)        320       \n",
      "                                                                 \n",
      " max_pooling2d (MaxPooling2D  (None, 14, 14, 32)       0         \n",
      " )                                                               \n",
      "                                                                 \n",
      " conv2d_1 (Conv2D)           (None, 14, 14, 64)        18496     \n",
      "                                                                 \n",
      "=================================================================\n",
      "Total params: 18,816\n",
      "Trainable params: 18,816\n",
      "Non-trainable params: 0\n",
      "_________________________________________________________________\n"
     ]
    }
   ],
   "source": [
    "model.summary()"
   ]
  },
  {
   "cell_type": "markdown",
   "id": "7b94514e",
   "metadata": {},
   "source": [
    "### CNN계층을 만드는 순서\n",
    "#### - 원본 그대로의 값에서 특징을 찾아내는 것이 목적이기에\n",
    "#### - 시작 계층부터 보통 시작을을 많이 함\n",
    "#### - CNN 계층부분이 끝난 후에는 기존과 동일하게 인공신경망 모델을 준수\n",
    "#### - 1차원으로 변환부터 진행하여 출력층까지 생성하여 완료\n",
    "---\n",
    "\n",
    "### 인공신경망 계층 추가\n",
    "#### 1차원 전처리 계층 추가"
   ]
  },
  {
   "cell_type": "code",
   "execution_count": 11,
   "id": "df40f38b",
   "metadata": {},
   "outputs": [],
   "source": [
    "model.add(keras.layers.Flatten())"
   ]
  },
  {
   "cell_type": "markdown",
   "id": "ab6364f2",
   "metadata": {},
   "source": [
    "#### 은닉층 추가"
   ]
  },
  {
   "cell_type": "code",
   "execution_count": 12,
   "id": "0a1d3523",
   "metadata": {},
   "outputs": [],
   "source": [
    "model.add(keras.layers.Dense(100, activation='relu'))"
   ]
  },
  {
   "cell_type": "markdown",
   "id": "d939b095",
   "metadata": {},
   "source": [
    "#### 성능을 높이기 위한 Dropout 전처리계층 추가"
   ]
  },
  {
   "cell_type": "code",
   "execution_count": 13,
   "id": "36868def",
   "metadata": {},
   "outputs": [],
   "source": [
    "model.add(keras.layers.Dropout(0.4))"
   ]
  },
  {
   "cell_type": "markdown",
   "id": "b0a1184f",
   "metadata": {},
   "source": [
    "#### 출력 계층 추가 (최종 분류 결과값 : 0~9, softmax사용)"
   ]
  },
  {
   "cell_type": "code",
   "execution_count": 14,
   "id": "d7cde4ab",
   "metadata": {},
   "outputs": [],
   "source": [
    "model.add(keras.layers.Dense(10, activation='softmax'))"
   ]
  },
  {
   "cell_type": "markdown",
   "id": "3c781aca",
   "metadata": {},
   "source": [
    "### parameter 갯수 계산\n",
    "#### - 최초 입력계층 Conv2D : 커널사이즈 * 컬러채널수 * Strides * 편향(무조건1) * 필터수\n",
    "#### - 두번째 입력계층 Conv2D : 커널사이즈 * 입력데이터수 * Strides * 편향(무조건1) * 필터수\n",
    "#### : 입력데이터수는 이전 계층에서 출력한 갯수(필터 : 32)\n",
    "\n",
    "#### - flatten : 14 * 14 * 64\n",
    "#### - Dense : 입력데이터 갯수 * 출력갯수 + 출력갯수\n"
   ]
  },
  {
   "cell_type": "code",
   "execution_count": 15,
   "id": "9da73423",
   "metadata": {},
   "outputs": [
    {
     "name": "stdout",
     "output_type": "stream",
     "text": [
      "Model: \"sequential\"\n",
      "_________________________________________________________________\n",
      " Layer (type)                Output Shape              Param #   \n",
      "=================================================================\n",
      " conv2d (Conv2D)             (None, 28, 28, 32)        320       \n",
      "                                                                 \n",
      " max_pooling2d (MaxPooling2D  (None, 14, 14, 32)       0         \n",
      " )                                                               \n",
      "                                                                 \n",
      " conv2d_1 (Conv2D)           (None, 14, 14, 64)        18496     \n",
      "                                                                 \n",
      " flatten (Flatten)           (None, 12544)             0         \n",
      "                                                                 \n",
      " dense (Dense)               (None, 100)               1254500   \n",
      "                                                                 \n",
      " dropout (Dropout)           (None, 100)               0         \n",
      "                                                                 \n",
      " dense_1 (Dense)             (None, 10)                1010      \n",
      "                                                                 \n",
      "=================================================================\n",
      "Total params: 1,274,326\n",
      "Trainable params: 1,274,326\n",
      "Non-trainable params: 0\n",
      "_________________________________________________________________\n"
     ]
    }
   ],
   "source": [
    "model.summary()"
   ]
  },
  {
   "cell_type": "markdown",
   "id": "d905ee51",
   "metadata": {},
   "source": [
    "### 인공신경망 계층 구조를 시각화하기\n",
    "#### - show_shapes : 층의 정보를 상세히 표현\n",
    "#### - to_file : 이미지 파일 저장\n",
    "\n",
    "#### 이미지가 안 나오는 경우 conda install -c conda-forge pydot graphviz 설치"
   ]
  },
  {
   "cell_type": "code",
   "execution_count": 16,
   "id": "bfc4a3ea",
   "metadata": {},
   "outputs": [],
   "source": [
    "from tensorflow.keras.utils import plot_model"
   ]
  },
  {
   "cell_type": "code",
   "execution_count": 17,
   "id": "c65dc73e",
   "metadata": {},
   "outputs": [
    {
     "name": "stdout",
     "output_type": "stream",
     "text": [
      "You must install pydot (`pip install pydot`) and install graphviz (see instructions at https://graphviz.gitlab.io/download/) for plot_model/model_to_dot to work.\n"
     ]
    }
   ],
   "source": [
    "plot_model(model)"
   ]
  },
  {
   "cell_type": "code",
   "execution_count": 18,
   "id": "46805588",
   "metadata": {},
   "outputs": [
    {
     "name": "stdout",
     "output_type": "stream",
     "text": [
      "You must install pydot (`pip install pydot`) and install graphviz (see instructions at https://graphviz.gitlab.io/download/) for plot_model/model_to_dot to work.\n"
     ]
    }
   ],
   "source": [
    "plot_model(model, show_shapes=True,\n",
    "          to_file='./image/cnn_model.png',dpi=300)"
   ]
  },
  {
   "cell_type": "markdown",
   "id": "bc74495e",
   "metadata": {},
   "source": [
    "### 모델 컴파일 하기\n"
   ]
  },
  {
   "cell_type": "code",
   "execution_count": 19,
   "id": "2b774479",
   "metadata": {},
   "outputs": [],
   "source": [
    "model.compile(optimizer='adam',\n",
    "             loss='sparse_categorical_crossentropy',\n",
    "             metrics='accuracy')"
   ]
  },
  {
   "cell_type": "markdown",
   "id": "138d18d7",
   "metadata": {},
   "source": [
    "###  Callback 함수지정"
   ]
  },
  {
   "cell_type": "code",
   "execution_count": 21,
   "id": "1c3dd7ce",
   "metadata": {},
   "outputs": [],
   "source": [
    "check_cb = keras.callbacks.ModelCheckpoint('./model/best_cnn_model.h5')\n",
    "early_cb= keras.callbacks.EarlyStopping(patience=2,\n",
    "                                        restore_best_weights=True)"
   ]
  },
  {
   "cell_type": "markdown",
   "id": "454222a3",
   "metadata": {},
   "source": [
    "### 훈련하기"
   ]
  },
  {
   "cell_type": "code",
   "execution_count": 22,
   "id": "1718dc23",
   "metadata": {},
   "outputs": [
    {
     "name": "stdout",
     "output_type": "stream",
     "text": [
      "Epoch 1/20\n",
      "1500/1500 [==============================] - 17s 11ms/step - loss: 0.4749 - accuracy: 0.8309 - val_loss: 0.3163 - val_accuracy: 0.8833\n",
      "Epoch 2/20\n",
      "1500/1500 [==============================] - 17s 12ms/step - loss: 0.3179 - accuracy: 0.8857 - val_loss: 0.2575 - val_accuracy: 0.9025\n",
      "Epoch 3/20\n",
      "1500/1500 [==============================] - 17s 11ms/step - loss: 0.2661 - accuracy: 0.9027 - val_loss: 0.2419 - val_accuracy: 0.9090\n",
      "Epoch 4/20\n",
      "1500/1500 [==============================] - 18s 12ms/step - loss: 0.2299 - accuracy: 0.9150 - val_loss: 0.2301 - val_accuracy: 0.9157\n",
      "Epoch 5/20\n",
      "1500/1500 [==============================] - 17s 11ms/step - loss: 0.1987 - accuracy: 0.9266 - val_loss: 0.2185 - val_accuracy: 0.9194\n",
      "Epoch 6/20\n",
      "1500/1500 [==============================] - 17s 11ms/step - loss: 0.1741 - accuracy: 0.9348 - val_loss: 0.2155 - val_accuracy: 0.9222\n",
      "Epoch 7/20\n",
      "1500/1500 [==============================] - 17s 11ms/step - loss: 0.1544 - accuracy: 0.9422 - val_loss: 0.2207 - val_accuracy: 0.9260\n",
      "Epoch 8/20\n",
      "1500/1500 [==============================] - 18s 12ms/step - loss: 0.1355 - accuracy: 0.9493 - val_loss: 0.2164 - val_accuracy: 0.9280\n"
     ]
    }
   ],
   "source": [
    "history = model.fit(train_scaled, train_target,\n",
    "                   epochs=20,\n",
    "                   validation_data=(val_sclaed,val_target),\n",
    "                   callbacks=[check_cb, early_cb])"
   ]
  },
  {
   "cell_type": "markdown",
   "id": "9740be50",
   "metadata": {},
   "source": [
    "### 성능 시각화"
   ]
  },
  {
   "cell_type": "code",
   "execution_count": 24,
   "id": "f34e4191",
   "metadata": {},
   "outputs": [],
   "source": [
    "import matplotlib.pyplot as plt"
   ]
  },
  {
   "cell_type": "code",
   "execution_count": 25,
   "id": "7e4910e3",
   "metadata": {},
   "outputs": [
    {
     "data": {
      "image/png": "[encoded data removed]",
      "text/plain": [
       "<Figure size 640x480 with 1 Axes>"
      ]
     },
     "metadata": {},
     "output_type": "display_data"
    }
   ],
   "source": [
    "plt.plot(history.history[\"loss\"], marker='o')\n",
    "plt.plot(history.history[\"val_loss\"], marker='o')\n",
    "plt.plot(history.history[\"accuracy\"], marker='o')\n",
    "plt.plot(history.history[\"val_accuracy\"], marker='o')\n",
    "\n",
    "plt.title(\"Epochs20-CNN vs Loss vs Accuracy\")\n",
    "\n",
    "plt.xlabel(\"epochs\")\n",
    "plt.ylabel(\"loss\")\n",
    "plt.legend(['loss_train','loss_val','acc_train','acc_val'])\n",
    "\n",
    "### x축의 값 설정하기\n",
    "xList = [i for i in range(20)]\n",
    "plt.xticks(xList)\n",
    "\n",
    "plt.grid()\n",
    "\n",
    "# 그래프를 이미지로 저장하기\n",
    "plt.savefig('./image/01_CNN_Total.png',dpi=300)\n",
    "plt.show()"
   ]
  },
  {
   "cell_type": "markdown",
   "id": "b5c92ba8",
   "metadata": {},
   "source": [
    "### 정확도 확인하기"
   ]
  },
  {
   "cell_type": "code",
   "execution_count": 26,
   "id": "b4e4027d",
   "metadata": {},
   "outputs": [
    {
     "name": "stdout",
     "output_type": "stream",
     "text": [
      "375/375 [==============================] - 1s 3ms/step - loss: 0.2155 - accuracy: 0.9222\n"
     ]
    },
    {
     "data": {
      "text/plain": [
       "[0.21550489962100983, 0.922166645526886]"
      ]
     },
     "execution_count": 26,
     "metadata": {},
     "output_type": "execute_result"
    }
   ],
   "source": [
    "model.evaluate(val_sclaed,val_target)"
   ]
  },
  {
   "cell_type": "markdown",
   "id": "7ff03da3",
   "metadata": {},
   "source": [
    "### 이미지 하나만 분류예측하기\n",
    "\n"
   ]
  },
  {
   "cell_type": "code",
   "execution_count": 27,
   "id": "2c13faa6",
   "metadata": {},
   "outputs": [
    {
     "data": {
      "text/plain": [
       "<matplotlib.image.AxesImage at 0x16a352bd7c0>"
      ]
     },
     "execution_count": 27,
     "metadata": {},
     "output_type": "execute_result"
    },
    {
     "data": {
      "image/png": "[encoded data removed]",
      "text/plain": [
       "<Figure size 640x480 with 1 Axes>"
      ]
     },
     "metadata": {},
     "output_type": "display_data"
    }
   ],
   "source": [
    "plt.imshow(val_sclaed[0].reshape(28,28),cmap='gray_r')"
   ]
  },
  {
   "cell_type": "code",
   "execution_count": 30,
   "id": "b9b238a9",
   "metadata": {},
   "outputs": [],
   "source": [
    "pred = model.predict(val_sclaed[0:1])"
   ]
  },
  {
   "cell_type": "code",
   "execution_count": 31,
   "id": "ec4e5572",
   "metadata": {},
   "outputs": [
    {
     "data": {
      "text/plain": [
       "array([[1.5351007e-16, 6.8417362e-24, 1.3623428e-19, 1.6773740e-18,\n",
       "        5.3760038e-16, 1.3185890e-14, 7.8646152e-16, 2.7026585e-15,\n",
       "        1.0000000e+00, 5.7280550e-16]], dtype=float32)"
      ]
     },
     "execution_count": 31,
     "metadata": {},
     "output_type": "execute_result"
    }
   ],
   "source": [
    "pred"
   ]
  },
  {
   "cell_type": "code",
   "execution_count": 34,
   "id": "c4c140e4",
   "metadata": {},
   "outputs": [
    {
     "data": {
      "image/png": "[encoded data removed]",
      "text/plain": [
       "<Figure size 640x480 with 1 Axes>"
      ]
     },
     "metadata": {},
     "output_type": "display_data"
    }
   ],
   "source": [
    "plt.bar(range(0,10), pred[0])\n",
    "plt.xlabel(\"class\")\n",
    "plt.ylabel(\"prob\")\n",
    "plt.show()"
   ]
  },
  {
   "cell_type": "code",
   "execution_count": 37,
   "id": "dc792e09",
   "metadata": {},
   "outputs": [
    {
     "data": {
      "text/plain": [
       "(1, 10)"
      ]
     },
     "execution_count": 37,
     "metadata": {},
     "output_type": "execute_result"
    }
   ],
   "source": [
    "pred.shape"
   ]
  },
  {
   "cell_type": "markdown",
   "id": "5c046a41",
   "metadata": {},
   "source": [
    "###  타겟값 순서\n",
    "#### ['티셔츠', '바지', '스웨터', '드레스', '코트',' 샌달','셔츠', '스니커즈', '가방', '앵클 부츠']"
   ]
  },
  {
   "cell_type": "code",
   "execution_count": 40,
   "id": "2a17d607",
   "metadata": {},
   "outputs": [],
   "source": [
    "classes = ['티셔츠', '바지', '스웨터', '드레스', '코트',' 샌달','셔츠', '스니커즈', '가방', '앵클 부츠']"
   ]
  },
  {
   "cell_type": "code",
   "execution_count": 41,
   "id": "aa914356",
   "metadata": {},
   "outputs": [
    {
     "name": "stdout",
     "output_type": "stream",
     "text": [
      "8\n",
      "가방\n"
     ]
    }
   ],
   "source": [
    "import numpy as np\n",
    "print(np.argmax(pred))\n",
    "print(classes[np.argmax(pred)])"
   ]
  },
  {
   "cell_type": "markdown",
   "id": "e72a1083",
   "metadata": {},
   "source": [
    "### Test데이터를 이용해 최종 예측해보기\n",
    "#### Test 데이터를 4차원으로 변환"
   ]
  },
  {
   "cell_type": "code",
   "execution_count": 42,
   "id": "b84cfb5f",
   "metadata": {},
   "outputs": [],
   "source": [
    "test_scaled = test_input.reshape(-1,28,28,1)/255.0"
   ]
  },
  {
   "cell_type": "markdown",
   "id": "51e6c2d5",
   "metadata": {},
   "source": [
    "### Test데이터 예측하기"
   ]
  },
  {
   "cell_type": "code",
   "execution_count": 55,
   "id": "774a1858",
   "metadata": {},
   "outputs": [],
   "source": [
    "test_preds = model.predict(test_scaled)"
   ]
  },
  {
   "cell_type": "markdown",
   "id": "aa944326",
   "metadata": {},
   "source": [
    "### Test데이터 예측결과 확인\n",
    "#### 확인을 위한 프로그램\n",
    "#### 정답/오답 확인변수\n",
    "\n"
   ]
  },
  {
   "cell_type": "code",
   "execution_count": 57,
   "id": "5a365bcf",
   "metadata": {},
   "outputs": [
    {
     "data": {
      "text/plain": [
       "array([[4.9381482e-10, 1.0951505e-15, 7.7358675e-10, 3.9651574e-11,\n",
       "        1.0613689e-12, 7.9018809e-09, 2.9610467e-09, 9.4943181e-07,\n",
       "        8.6362195e-11, 9.9999905e-01],\n",
       "       [2.7028713e-07, 1.5593720e-16, 9.9998593e-01, 6.9793282e-11,\n",
       "        6.7472331e-07, 1.7238934e-19, 1.3145513e-05, 5.4045162e-21,\n",
       "        7.6097098e-13, 5.6482744e-17],\n",
       "       [9.3342088e-12, 1.0000000e+00, 1.6552665e-14, 4.3108889e-10,\n",
       "        1.3619943e-12, 3.5574325e-15, 2.4065830e-12, 1.1576905e-15,\n",
       "        9.9023806e-13, 8.8402703e-15],\n",
       "       [7.6362934e-13, 1.0000000e+00, 1.2277848e-15, 4.6117811e-11,\n",
       "        5.4151388e-13, 1.0122383e-17, 1.3214051e-12, 6.6423728e-18,\n",
       "        6.7170065e-14, 2.2740593e-17],\n",
       "       [5.0913845e-03, 3.8991601e-09, 1.0402562e-04, 6.6041400e-07,\n",
       "        3.4626527e-04, 2.2368754e-09, 9.9445760e-01, 5.6846656e-11,\n",
       "        4.6330966e-09, 2.1556055e-09]], dtype=float32)"
      ]
     },
     "execution_count": 57,
     "metadata": {},
     "output_type": "execute_result"
    }
   ],
   "source": [
    "test_preds[0:5]"
   ]
  },
  {
   "cell_type": "code",
   "execution_count": 56,
   "id": "f39db0bc",
   "metadata": {},
   "outputs": [
    {
     "data": {
      "image/png": "[encoded data removed]",
      "text/plain": [
       "<Figure size 640x480 with 1 Axes>"
      ]
     },
     "metadata": {},
     "output_type": "display_data"
    },
    {
     "name": "stdout",
     "output_type": "stream",
     "text": [
      "Count[0] / 예측:9(앵클 부츠) | 정답:9\n"
     ]
    },
    {
     "data": {
      "image/png": "[encoded data removed]",
      "text/plain": [
       "<Figure size 640x480 with 1 Axes>"
      ]
     },
     "metadata": {},
     "output_type": "display_data"
    },
    {
     "name": "stdout",
     "output_type": "stream",
     "text": [
      "Count[1] / 예측:2(스웨터) | 정답:2\n"
     ]
    },
    {
     "data": {
      "image/png": "[encoded data removed]",
      "text/plain": [
       "<Figure size 640x480 with 1 Axes>"
      ]
     },
     "metadata": {},
     "output_type": "display_data"
    },
    {
     "name": "stdout",
     "output_type": "stream",
     "text": [
      "Count[2] / 예측:1(바지) | 정답:1\n"
     ]
    },
    {
     "data": {
      "image/png": "[encoded data removed]",
      "text/plain": [
       "<Figure size 640x480 with 1 Axes>"
      ]
     },
     "metadata": {},
     "output_type": "display_data"
    },
    {
     "name": "stdout",
     "output_type": "stream",
     "text": [
      "Count[3] / 예측:1(바지) | 정답:1\n"
     ]
    },
    {
     "data": {
      "image/png": "[encoded data removed]",
      "text/plain": [
       "<Figure size 640x480 with 1 Axes>"
      ]
     },
     "metadata": {},
     "output_type": "display_data"
    },
    {
     "name": "stdout",
     "output_type": "stream",
     "text": [
      "Count[4] / 예측:6(셔츠) | 정답:6\n"
     ]
    },
    {
     "data": {
      "image/png": "[encoded data removed]",
      "text/plain": [
       "<Figure size 640x480 with 1 Axes>"
      ]
     },
     "metadata": {},
     "output_type": "display_data"
    },
    {
     "name": "stdout",
     "output_type": "stream",
     "text": [
      "Count[5] / 예측:1(바지) | 정답:1\n"
     ]
    },
    {
     "data": {
      "image/png": "[encoded data removed]",
      "text/plain": [
       "<Figure size 640x480 with 1 Axes>"
      ]
     },
     "metadata": {},
     "output_type": "display_data"
    },
    {
     "name": "stdout",
     "output_type": "stream",
     "text": [
      "Count[6] / 예측:4(코트) | 정답:4\n"
     ]
    },
    {
     "data": {
      "image/png": "[encoded data removed]",
      "text/plain": [
       "<Figure size 640x480 with 1 Axes>"
      ]
     },
     "metadata": {},
     "output_type": "display_data"
    },
    {
     "name": "stdout",
     "output_type": "stream",
     "text": [
      "Count[7] / 예측:6(셔츠) | 정답:6\n"
     ]
    },
    {
     "data": {
      "image/png": "[encoded data removed]",
      "text/plain": [
       "<Figure size 640x480 with 1 Axes>"
      ]
     },
     "metadata": {},
     "output_type": "display_data"
    },
    {
     "name": "stdout",
     "output_type": "stream",
     "text": [
      "Count[8] / 예측:5( 샌달) | 정답:5\n"
     ]
    },
    {
     "data": {
      "image/png": "[encoded data removed]",
      "text/plain": [
       "<Figure size 640x480 with 1 Axes>"
      ]
     },
     "metadata": {},
     "output_type": "display_data"
    },
    {
     "name": "stdout",
     "output_type": "stream",
     "text": [
      "Count[9] / 예측:7(스니커즈) | 정답:7\n",
      "정답 건수 =  3  / 오답 건수 =  7\n",
      "정확도= 0.0003  / 오차율= 0.0007\n"
     ]
    }
   ],
   "source": [
    "# 확인을 위한 프로그램\n",
    "\n",
    "# 정답/오답 확인변수\n",
    "o = 0\n",
    "x = 0\n",
    "\n",
    "# for i in range(len(test_preds)) :\n",
    "for i in range(10) :\n",
    "    # 정답/오답 확인하기\n",
    "    if np.argmax(test_preds[i] == test_target[i]) :\n",
    "        o = o + 1\n",
    "    else :\n",
    "        x = x + 1\n",
    "    \n",
    "    # test 데이터 이미지 확인하기\n",
    "    plt.imshow(test_scaled[i].reshape(28, 28), cmap=\"gray_r\")\n",
    "    plt.show()\n",
    "    \n",
    "    # 예측값과 target값 비교\n",
    "    print(\"Count[{}] / 예측:{}({}) | 정답:{}\".format(i,\n",
    "                                    np.argmax(test_preds[i]),\n",
    "                                    classes[np.argmax(test_preds[i])],\n",
    "                                    test_target[i]))\n",
    "    \n",
    "## 정답 및 오답 확인\n",
    "print(\"정답 건수 = \", o, \" / 오답 건수 = \", x)\n",
    "print(\"정확도=\", o/len(test_preds), \" / 오차율=\", x/len(test_preds))"
   ]
  },
  {
   "cell_type": "code",
   "execution_count": null,
   "id": "7c08daae",
   "metadata": {},
   "outputs": [],
   "source": []
  },
  {
   "cell_type": "code",
   "execution_count": null,
   "id": "17ef00f4",
   "metadata": {},
   "outputs": [],
   "source": []
  },
  {
   "cell_type": "code",
   "execution_count": null,
   "id": "9e8afa87",
   "metadata": {},
   "outputs": [],
   "source": []
  },
  {
   "cell_type": "code",
   "execution_count": null,
   "id": "a56b6657",
   "metadata": {},
   "outputs": [],
   "source": []
  }
 ],
 "metadata": {
  "kernelspec": {
   "display_name": "all_env_kernel",
   "language": "python",
   "name": "all_env"
  },
  "language_info": {
   "codemirror_mode": {
    "name": "ipython",
    "version": 3
   },
   "file_extension": ".py",
   "mimetype": "text/x-python",
   "name": "python",
   "nbconvert_exporter": "python",
   "pygments_lexer": "ipython3",
   "version": "3.9.16"
  }
 },
 "nbformat": 4,
 "nbformat_minor": 5
}
