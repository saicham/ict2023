{
 "cells": [
  {
   "cell_type": "code",
   "execution_count": 1,
   "id": "c3bb8745",
   "metadata": {},
   "outputs": [],
   "source": [
    "from tensorflow import keras"
   ]
  },
  {
   "cell_type": "markdown",
   "id": "ef56d2f7",
   "metadata": {},
   "source": [
    "#### 데이터 수집 및 전처리, 분리하기"
   ]
  },
  {
   "cell_type": "code",
   "execution_count": 2,
   "id": "13fa7471",
   "metadata": {},
   "outputs": [
    {
     "data": {
      "text/plain": [
       "((48000, 28, 28), (12000, 28, 28), (48000,), (12000,))"
      ]
     },
     "execution_count": 2,
     "metadata": {},
     "output_type": "execute_result"
    }
   ],
   "source": [
    "(train_input, train_target), (test_input, test_target) = keras.datasets.fashion_mnist.load_data()\n",
    "train_input.shape, test_input.shape, train_target.shape, test_target.shape\n",
    "\n",
    "train_scaled = train_input / 255.0\n",
    "train_scaled.shape\n",
    "\n",
    "from sklearn.model_selection import train_test_split\n",
    "train_scaled, val_sclaed, train_target, val_target = train_test_split(train_scaled, train_target, test_size=0.2, random_state=42)\n",
    "train_scaled.shape, val_sclaed.shape, train_target.shape, val_target.shape"
   ]
  },
  {
   "cell_type": "markdown",
   "id": "e82823c4",
   "metadata": {},
   "source": [
    "#### 모델 및 계층을 생성하는 함수"
   ]
  },
  {
   "cell_type": "code",
   "execution_count": 3,
   "id": "fca6d9f7",
   "metadata": {},
   "outputs": [],
   "source": [
    "def model_fn(a_layer=None):\n",
    "    # 모델생성\n",
    "    model = keras.Sequential()\n",
    "    \n",
    "    # 전처리 계층\n",
    "    model.add(keras.layers.Flatten(input_shape = (28,28)))\n",
    "    \n",
    "    # 은닉층\n",
    "    model.add(keras.layers.Dense(100, activation='relu'))\n",
    "    \n",
    "    # 추가할 계층이 있는 경우 아래 적용됨\n",
    "    # - 추가성능을 위래 추가할 계층이 있는 경우 사용\n",
    "    if a_layer:\n",
    "        model.add(a_layer)\n",
    "        \n",
    "    #출력층\n",
    "    model.add(keras.layers.Dense(10, activation='softmax'))\n",
    "    \n",
    "    # 모델 반환\n",
    "    return model"
   ]
  },
  {
   "cell_type": "markdown",
   "id": "69155c30",
   "metadata": {},
   "source": [
    "#### epoch 5로 모델 훈련"
   ]
  },
  {
   "cell_type": "code",
   "execution_count": 5,
   "id": "a4f20785",
   "metadata": {},
   "outputs": [
    {
     "name": "stdout",
     "output_type": "stream",
     "text": [
      "Model: \"sequential_1\"\n",
      "_________________________________________________________________\n",
      " Layer (type)                Output Shape              Param #   \n",
      "=================================================================\n",
      " flatten_1 (Flatten)         (None, 784)               0         \n",
      "                                                                 \n",
      " dense_2 (Dense)             (None, 100)               78500     \n",
      "                                                                 \n",
      " dense_3 (Dense)             (None, 10)                1010      \n",
      "                                                                 \n",
      "=================================================================\n",
      "Total params: 79,510\n",
      "Trainable params: 79,510\n",
      "Non-trainable params: 0\n",
      "_________________________________________________________________\n"
     ]
    }
   ],
   "source": [
    "model5 = model_fn()\n",
    "model5.summary()"
   ]
  },
  {
   "cell_type": "code",
   "execution_count": 6,
   "id": "99160a79",
   "metadata": {},
   "outputs": [],
   "source": [
    "model5.compile(loss='sparse_categorical_crossentropy',\n",
    "             metrics='accuracy')"
   ]
  },
  {
   "cell_type": "code",
   "execution_count": 7,
   "id": "631e5312",
   "metadata": {},
   "outputs": [
    {
     "name": "stdout",
     "output_type": "stream",
     "text": [
      "Epoch 1/5\n",
      "1500/1500 [==============================] - 1s 564us/step - loss: 0.5277 - accuracy: 0.8151\n",
      "Epoch 2/5\n",
      "1500/1500 [==============================] - 1s 545us/step - loss: 0.3915 - accuracy: 0.8590\n",
      "Epoch 3/5\n",
      "1500/1500 [==============================] - 1s 535us/step - loss: 0.3530 - accuracy: 0.8727\n",
      "Epoch 4/5\n",
      "1500/1500 [==============================] - 1s 540us/step - loss: 0.3336 - accuracy: 0.8786\n",
      "Epoch 5/5\n",
      "1500/1500 [==============================] - 1s 537us/step - loss: 0.3196 - accuracy: 0.8858\n"
     ]
    },
    {
     "data": {
      "text/plain": [
       "<keras.callbacks.History at 0x1621bd90dc0>"
      ]
     },
     "execution_count": 7,
     "metadata": {},
     "output_type": "execute_result"
    }
   ],
   "source": [
    "history5 = model5.fit(train_scaled, train_target, epochs=5)\n",
    "history5"
   ]
  },
  {
   "cell_type": "markdown",
   "id": "d5b00c01",
   "metadata": {},
   "source": [
    "#### 훈련반복횟수"
   ]
  },
  {
   "cell_type": "code",
   "execution_count": 8,
   "id": "38a86ae5",
   "metadata": {},
   "outputs": [
    {
     "name": "stdout",
     "output_type": "stream",
     "text": [
      "[0, 1, 2, 3, 4]\n"
     ]
    }
   ],
   "source": [
    "print(history5.epoch)"
   ]
  },
  {
   "cell_type": "markdown",
   "id": "70eb3eab",
   "metadata": {},
   "source": [
    "#### 훈련 결과 전체"
   ]
  },
  {
   "cell_type": "code",
   "execution_count": 10,
   "id": "cb5de253",
   "metadata": {},
   "outputs": [
    {
     "name": "stdout",
     "output_type": "stream",
     "text": [
      "{'loss': [0.5277144908905029, 0.39152196049690247, 0.35303372144699097, 0.3335891664028168, 0.31957730650901794], 'accuracy': [0.8150625228881836, 0.859041690826416, 0.8727499842643738, 0.8786041736602783, 0.8858333230018616]}\n"
     ]
    }
   ],
   "source": [
    "print(history5.history)"
   ]
  },
  {
   "cell_type": "markdown",
   "id": "7a951c47",
   "metadata": {},
   "source": [
    "#### 훈련 결과 딕셔너리"
   ]
  },
  {
   "cell_type": "code",
   "execution_count": 11,
   "id": "c7b3bc2e",
   "metadata": {},
   "outputs": [
    {
     "name": "stdout",
     "output_type": "stream",
     "text": [
      "dict_keys(['loss', 'accuracy'])\n"
     ]
    }
   ],
   "source": [
    "print(history5.history.keys())"
   ]
  },
  {
   "cell_type": "markdown",
   "id": "94502b5a",
   "metadata": {},
   "source": [
    "#### 훈련 및 검증 결과를 동시에 추출\n",
    "#### - verbose : 출력 옵션(1은 손실과 정확도 모두 보여주기, 0은 출력결과 안 보여주기)"
   ]
  },
  {
   "cell_type": "code",
   "execution_count": 12,
   "id": "1652a35d",
   "metadata": {},
   "outputs": [
    {
     "name": "stdout",
     "output_type": "stream",
     "text": [
      "Epoch 1/5\n",
      "1500/1500 [==============================] - 1s 684us/step - loss: 0.3105 - accuracy: 0.8900 - val_loss: 0.3545 - val_accuracy: 0.8815\n",
      "Epoch 2/5\n",
      "1500/1500 [==============================] - 1s 629us/step - loss: 0.3015 - accuracy: 0.8910 - val_loss: 0.3563 - val_accuracy: 0.8772\n",
      "Epoch 3/5\n",
      "1500/1500 [==============================] - 1s 613us/step - loss: 0.2905 - accuracy: 0.8971 - val_loss: 0.3592 - val_accuracy: 0.8837\n",
      "Epoch 4/5\n",
      "1500/1500 [==============================] - 1s 624us/step - loss: 0.2865 - accuracy: 0.8995 - val_loss: 0.3682 - val_accuracy: 0.8808\n",
      "Epoch 5/5\n",
      "1500/1500 [==============================] - 1s 617us/step - loss: 0.2806 - accuracy: 0.9021 - val_loss: 0.3622 - val_accuracy: 0.8841\n"
     ]
    }
   ],
   "source": [
    "# \n",
    "history5 = model5.fit(train_scaled,train_target,\n",
    "                      epochs=5, \n",
    "                      verbose=1,\n",
    "                     validation_data=(val_sclaed, val_target))"
   ]
  },
  {
   "cell_type": "code",
   "execution_count": 14,
   "id": "19539596",
   "metadata": {},
   "outputs": [
    {
     "data": {
      "text/plain": [
       "{'loss': [0.31047284603118896,\n",
       "  0.30152836441993713,\n",
       "  0.2904675304889679,\n",
       "  0.28654366731643677,\n",
       "  0.28061535954475403],\n",
       " 'accuracy': [0.8900416493415833,\n",
       "  0.890958309173584,\n",
       "  0.8971041440963745,\n",
       "  0.8995208144187927,\n",
       "  0.9020624756813049],\n",
       " 'val_loss': [0.3544800579547882,\n",
       "  0.3562726676464081,\n",
       "  0.3591630160808563,\n",
       "  0.3681822121143341,\n",
       "  0.36219465732574463],\n",
       " 'val_accuracy': [0.8815000057220459,\n",
       "  0.8771666884422302,\n",
       "  0.8836666941642761,\n",
       "  0.8807500004768372,\n",
       "  0.8840833306312561]}"
      ]
     },
     "execution_count": 14,
     "metadata": {},
     "output_type": "execute_result"
    }
   ],
   "source": [
    "history5.history"
   ]
  },
  {
   "cell_type": "code",
   "execution_count": 15,
   "id": "1396da12",
   "metadata": {},
   "outputs": [
    {
     "data": {
      "text/plain": [
       "dict_keys(['loss', 'accuracy', 'val_loss', 'val_accuracy'])"
      ]
     },
     "execution_count": 15,
     "metadata": {},
     "output_type": "execute_result"
    }
   ],
   "source": [
    "history5.history.keys()"
   ]
  },
  {
   "cell_type": "markdown",
   "id": "cf2cc199",
   "metadata": {},
   "source": [
    "#### 모델성능을 시각화"
   ]
  },
  {
   "cell_type": "code",
   "execution_count": 16,
   "id": "211c0c95",
   "metadata": {},
   "outputs": [],
   "source": [
    "import matplotlib.pyplot as plt\n"
   ]
  },
  {
   "cell_type": "markdown",
   "id": "8b3affa3",
   "metadata": {},
   "source": [
    "#### 훈련 및 검증 손실곡선 그리기 - epoch와 loss가 가까운 지점을 좋은 지점으로 평가"
   ]
  },
  {
   "cell_type": "code",
   "execution_count": 18,
   "id": "279ac7b4",
   "metadata": {},
   "outputs": [
    {
     "data": {
      "image/png": "[encoded data removed]",
      "text/plain": [
       "<Figure size 640x480 with 1 Axes>"
      ]
     },
     "metadata": {},
     "output_type": "display_data"
    }
   ],
   "source": [
    "plt.plot(history5.history[\"loss\"])\n",
    "plt.plot(history5.history[\"val_loss\"])\n",
    "\n",
    "plt.title(\"Epochs5 vs Loss\")\n",
    "plt.xlabel(\"epochs\")\n",
    "plt.ylabel(\"loss\")\n",
    "\n",
    "plt.legend(['train','val'])\n",
    "plt.show()"
   ]
  },
  {
   "cell_type": "markdown",
   "id": "0c9ec9e9",
   "metadata": {},
   "source": [
    "#### 훈련 및 검증 정확도곡선 그리기"
   ]
  },
  {
   "cell_type": "code",
   "execution_count": 19,
   "id": "53da7ae5",
   "metadata": {},
   "outputs": [
    {
     "data": {
      "image/png": "[encoded data removed]",
      "text/plain": [
       "<Figure size 640x480 with 1 Axes>"
      ]
     },
     "metadata": {},
     "output_type": "display_data"
    }
   ],
   "source": [
    "plt.plot(history5.history[\"accuracy\"])\n",
    "plt.plot(history5.history[\"val_accuracy\"])\n",
    "\n",
    "plt.title(\"Epochs5 vs Accuracy\")\n",
    "plt.xlabel(\"epochs\")\n",
    "plt.ylabel(\"accuracy\")\n",
    "\n",
    "plt.legend(['train','val'])\n",
    "plt.show()"
   ]
  },
  {
   "cell_type": "code",
   "execution_count": null,
   "id": "823d5f3f",
   "metadata": {},
   "outputs": [],
   "source": []
  },
  {
   "cell_type": "code",
   "execution_count": null,
   "id": "3243cd2c",
   "metadata": {},
   "outputs": [],
   "source": []
  }
 ],
 "metadata": {
  "kernelspec": {
   "display_name": "all_env_kernel",
   "language": "python",
   "name": "all_env"
  },
  "language_info": {
   "codemirror_mode": {
    "name": "ipython",
    "version": 3
   },
   "file_extension": ".py",
   "mimetype": "text/x-python",
   "name": "python",
   "nbconvert_exporter": "python",
   "pygments_lexer": "ipython3",
   "version": "3.9.16"
  }
 },
 "nbformat": 4,
 "nbformat_minor": 5
}
