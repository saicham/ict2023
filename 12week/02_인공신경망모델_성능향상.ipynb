{
 "cells": [
  {
   "cell_type": "code",
   "execution_count": 2,
   "id": "427dc40e",
   "metadata": {},
   "outputs": [],
   "source": [
    "from tensorflow import keras"
   ]
  },
  {
   "cell_type": "markdown",
   "id": "85fcf922",
   "metadata": {},
   "source": [
    "### 데이터 읽기"
   ]
  },
  {
   "cell_type": "code",
   "execution_count": 47,
   "id": "ea5a1ecd",
   "metadata": {},
   "outputs": [],
   "source": [
    "(train_input, train_target), (test_input, test_target) = keras.datasets.fashion_mnist.load_data()"
   ]
  },
  {
   "cell_type": "code",
   "execution_count": 48,
   "id": "bb5fd89c",
   "metadata": {},
   "outputs": [
    {
     "data": {
      "text/plain": [
       "((60000, 28, 28), (10000, 28, 28), (60000,), (10000,))"
      ]
     },
     "execution_count": 48,
     "metadata": {},
     "output_type": "execute_result"
    }
   ],
   "source": [
    "train_input.shape, test_input.shape, train_target.shape, test_target.shape"
   ]
  },
  {
   "cell_type": "markdown",
   "id": "3a82e0fa",
   "metadata": {},
   "source": [
    "### 데이터 정규화"
   ]
  },
  {
   "cell_type": "code",
   "execution_count": 50,
   "id": "cf129886",
   "metadata": {},
   "outputs": [
    {
     "data": {
      "text/plain": [
       "(60000, 28, 28)"
      ]
     },
     "execution_count": 50,
     "metadata": {},
     "output_type": "execute_result"
    }
   ],
   "source": [
    "# 산술식으로 정규화하기\n",
    "train_scaled = train_input / 255.0\n",
    "train_scaled.shape"
   ]
  },
  {
   "cell_type": "markdown",
   "id": "ec3e2c41",
   "metadata": {},
   "source": [
    "### 픽셀 데이터를 1차원으로 변환"
   ]
  },
  {
   "cell_type": "code",
   "execution_count": 52,
   "id": "ce399722",
   "metadata": {},
   "outputs": [
    {
     "data": {
      "text/plain": [
       "(60000, 784)"
      ]
     },
     "execution_count": 52,
     "metadata": {},
     "output_type": "execute_result"
    }
   ],
   "source": [
    "train_scaled = train_scaled.reshape(-1, 28 * 28)\n",
    "train_scaled.shape"
   ]
  },
  {
   "cell_type": "markdown",
   "id": "b6ea9eb4",
   "metadata": {},
   "source": [
    "### 훈련데이터와 검증데이터 분리"
   ]
  },
  {
   "cell_type": "code",
   "execution_count": 54,
   "id": "ece98759",
   "metadata": {},
   "outputs": [
    {
     "data": {
      "text/plain": [
       "((60000, 784), (60000,))"
      ]
     },
     "execution_count": 54,
     "metadata": {},
     "output_type": "execute_result"
    }
   ],
   "source": [
    "train_scaled.shape, train_target.shape"
   ]
  },
  {
   "cell_type": "code",
   "execution_count": 55,
   "id": "22e89948",
   "metadata": {},
   "outputs": [],
   "source": [
    "from sklearn.model_selection import train_test_split\n",
    "train_scaled, val_scaled, train_target, val_target = train_test_split(train_scaled, train_target, test_size=0.2, random_state=42)\n",
    "# train_scaled.shape, val_scaled.shape, train_target.shape, val_target.shape"
   ]
  },
  {
   "cell_type": "markdown",
   "id": "32b03264",
   "metadata": {},
   "source": [
    "### 입력계층"
   ]
  },
  {
   "cell_type": "code",
   "execution_count": 76,
   "id": "5d675f59",
   "metadata": {},
   "outputs": [],
   "source": [
    "\n",
    "# 784개의 입력데이터를 이용해서 손실이 적은 100개 추출\n",
    "dense1 = keras.layers.Dense(100, activation='sigmoid',input_shape=(784,))\n"
   ]
  },
  {
   "cell_type": "markdown",
   "id": "5923afb9",
   "metadata": {},
   "source": [
    "### 출력계층"
   ]
  },
  {
   "cell_type": "code",
   "execution_count": 57,
   "id": "ec8f93a3",
   "metadata": {},
   "outputs": [],
   "source": [
    "\n",
    "# 입력계층을 통해 추출된 100개의 데이터를 입력으로 박아서 최종 10개로 분류(확률적으로 분류됨)\n",
    "# 출력계층의 활성화 함수 : sigmoid, softmax 둘중 하나\n",
    "dense2 = keras.layers.Dense(10,activation='softmax')"
   ]
  },
  {
   "cell_type": "markdown",
   "id": "5245da73",
   "metadata": {},
   "source": [
    "### 심층신경망 만들기(신경망층이 여러개인 경우)\n",
    "### 모델생성"
   ]
  },
  {
   "cell_type": "code",
   "execution_count": 77,
   "id": "a25d0861",
   "metadata": {},
   "outputs": [
    {
     "data": {
      "text/plain": [
       "<keras.engine.sequential.Sequential at 0x20c880ecfd0>"
      ]
     },
     "execution_count": 77,
     "metadata": {},
     "output_type": "execute_result"
    }
   ],
   "source": [
    "model = keras.Sequential([dense1, dense2])\n",
    "model"
   ]
  },
  {
   "cell_type": "markdown",
   "id": "9b9bf0e0",
   "metadata": {},
   "source": [
    "### 모델구조확인"
   ]
  },
  {
   "cell_type": "code",
   "execution_count": 60,
   "id": "db213207",
   "metadata": {},
   "outputs": [
    {
     "name": "stdout",
     "output_type": "stream",
     "text": [
      "Model: \"sequential_3\"\n",
      "_________________________________________________________________\n",
      " Layer (type)                Output Shape              Param #   \n",
      "=================================================================\n",
      " dense_4 (Dense)             (None, 100)               78500     \n",
      "                                                                 \n",
      " dense_5 (Dense)             (None, 10)                1010      \n",
      "                                                                 \n",
      "=================================================================\n",
      "Total params: 79,510\n",
      "Trainable params: 79,510\n",
      "Non-trainable params: 0\n",
      "_________________________________________________________________\n"
     ]
    }
   ],
   "source": [
    "\n",
    "model.summary()\n",
    "\n",
    "# dense1 파라키터 갯수 = 784 * 100 + 100 = 78500\n",
    "# dense2 파라키터 갯수 = 100 * 10 + 10 = 1010"
   ]
  },
  {
   "cell_type": "markdown",
   "id": "b514cf9f",
   "metadata": {},
   "source": [
    "###  신경망 계층 추가방법(2)\n",
    "#### - 신경망모델 생성시에 신경망층을 함께 생성"
   ]
  },
  {
   "cell_type": "code",
   "execution_count": 61,
   "id": "30afe899",
   "metadata": {},
   "outputs": [
    {
     "data": {
      "text/plain": [
       "<keras.engine.sequential.Sequential at 0x20c86532760>"
      ]
     },
     "execution_count": 61,
     "metadata": {},
     "output_type": "execute_result"
    }
   ],
   "source": [
    "model = keras.Sequential([keras.layers.Dense(100, activation='sigmoid', input_shape=(784,), name='hidden_layer'),\n",
    "                          keras.layers.Dense(10, activation='softmax', name='out_layer')\n",
    "                         ], name='Model')\n",
    "model\n"
   ]
  },
  {
   "cell_type": "code",
   "execution_count": 62,
   "id": "2d92285c",
   "metadata": {},
   "outputs": [
    {
     "name": "stdout",
     "output_type": "stream",
     "text": [
      "Model: \"Model\"\n",
      "_________________________________________________________________\n",
      " Layer (type)                Output Shape              Param #   \n",
      "=================================================================\n",
      " hidden_layer (Dense)        (None, 100)               78500     \n",
      "                                                                 \n",
      " out_layer (Dense)           (None, 10)                1010      \n",
      "                                                                 \n",
      "=================================================================\n",
      "Total params: 79,510\n",
      "Trainable params: 79,510\n",
      "Non-trainable params: 0\n",
      "_________________________________________________________________\n"
     ]
    }
   ],
   "source": [
    "model.summary()"
   ]
  },
  {
   "cell_type": "markdown",
   "id": "947c130b",
   "metadata": {},
   "source": [
    "###  신경망 계층 추가방법(3)\n",
    "#### - 신경망모델 생성 후 add()함수를 이용해서 계층 추가\n",
    "#### - 가장 많이 사용"
   ]
  },
  {
   "cell_type": "code",
   "execution_count": 63,
   "id": "c0a30492",
   "metadata": {},
   "outputs": [
    {
     "data": {
      "text/plain": [
       "<keras.engine.sequential.Sequential at 0x20c98d18940>"
      ]
     },
     "execution_count": 63,
     "metadata": {},
     "output_type": "execute_result"
    }
   ],
   "source": [
    "# 1.모델 생성\n",
    "model = keras.Sequential()\n",
    "model"
   ]
  },
  {
   "cell_type": "code",
   "execution_count": 64,
   "id": "6b133847",
   "metadata": {},
   "outputs": [],
   "source": [
    "# 2.계층 추가\n",
    "model.add(keras.layers.Dense(100, activation='sigmoid', input_shape=(784,)))\n",
    "model.add(keras.layers.Dense(10, activation='softmax'))"
   ]
  },
  {
   "cell_type": "code",
   "execution_count": 65,
   "id": "cc275f82",
   "metadata": {},
   "outputs": [
    {
     "name": "stdout",
     "output_type": "stream",
     "text": [
      "Model: \"sequential_4\"\n",
      "_________________________________________________________________\n",
      " Layer (type)                Output Shape              Param #   \n",
      "=================================================================\n",
      " dense_6 (Dense)             (None, 100)               78500     \n",
      "                                                                 \n",
      " dense_7 (Dense)             (None, 10)                1010      \n",
      "                                                                 \n",
      "=================================================================\n",
      "Total params: 79,510\n",
      "Trainable params: 79,510\n",
      "Non-trainable params: 0\n",
      "_________________________________________________________________\n"
     ]
    }
   ],
   "source": [
    "model.summary()"
   ]
  },
  {
   "cell_type": "code",
   "execution_count": 66,
   "id": "f0152901",
   "metadata": {},
   "outputs": [],
   "source": [
    "# 3.모델 설정(compile)\n",
    "model.compile(loss='sparse_categorical_crossentropy', metrics='accuracy')"
   ]
  },
  {
   "cell_type": "code",
   "execution_count": 67,
   "id": "a539b846",
   "metadata": {},
   "outputs": [
    {
     "name": "stdout",
     "output_type": "stream",
     "text": [
      "Epoch 1/10\n",
      "1500/1500 [==============================] - 1s 565us/step - loss: 0.5665 - accuracy: 0.8059\n",
      "Epoch 2/10\n",
      "1500/1500 [==============================] - 1s 543us/step - loss: 0.4064 - accuracy: 0.8527\n",
      "Epoch 3/10\n",
      "1500/1500 [==============================] - 1s 556us/step - loss: 0.3707 - accuracy: 0.8653\n",
      "Epoch 4/10\n",
      "1500/1500 [==============================] - 1s 541us/step - loss: 0.3483 - accuracy: 0.8734\n",
      "Epoch 5/10\n",
      "1500/1500 [==============================] - 1s 546us/step - loss: 0.3313 - accuracy: 0.8806\n",
      "Epoch 6/10\n",
      "1500/1500 [==============================] - 1s 540us/step - loss: 0.3175 - accuracy: 0.8839\n",
      "Epoch 7/10\n",
      "1500/1500 [==============================] - 1s 550us/step - loss: 0.3058 - accuracy: 0.8889\n",
      "Epoch 8/10\n",
      "1500/1500 [==============================] - 1s 560us/step - loss: 0.2979 - accuracy: 0.8905\n",
      "Epoch 9/10\n",
      "1500/1500 [==============================] - 1s 555us/step - loss: 0.2884 - accuracy: 0.8960\n",
      "Epoch 10/10\n",
      "1500/1500 [==============================] - 1s 546us/step - loss: 0.2813 - accuracy: 0.8964\n"
     ]
    },
    {
     "data": {
      "text/plain": [
       "<keras.callbacks.History at 0x20c865194c0>"
      ]
     },
     "execution_count": 67,
     "metadata": {},
     "output_type": "execute_result"
    }
   ],
   "source": [
    "# 4.모델 훈련\n",
    "model.fit(train_scaled, train_target, epochs=10)"
   ]
  },
  {
   "cell_type": "code",
   "execution_count": 70,
   "id": "f02d9159",
   "metadata": {},
   "outputs": [
    {
     "name": "stdout",
     "output_type": "stream",
     "text": [
      "375/375 [==============================] - 0s 384us/step - loss: 0.3235 - accuracy: 0.8848\n"
     ]
    },
    {
     "data": {
      "text/plain": [
       "[0.3234919607639313, 0.8848333358764648]"
      ]
     },
     "execution_count": 70,
     "metadata": {},
     "output_type": "execute_result"
    }
   ],
   "source": [
    "# 5.검증하기\n",
    "scores = model.evaluate(val_scaled, val_target)\n",
    "scores"
   ]
  },
  {
   "cell_type": "code",
   "execution_count": 75,
   "id": "0a41f709",
   "metadata": {},
   "outputs": [
    {
     "name": "stdout",
     "output_type": "stream",
     "text": [
      "손실율 :  0.3234919607639313 정확도 : 0.8848333358764648\n"
     ]
    }
   ],
   "source": [
    "print('손실율 : ',scores[0], '정확도 :', scores[1])"
   ]
  },
  {
   "cell_type": "markdown",
   "id": "47c9d36c",
   "metadata": {},
   "source": [
    "### 손실함수(loss function)\n",
    "#### 손실함수는 실제값과 예측값의 차이를 수치화해주는 함수\n",
    "#### 이 두값의 차이, 즉 오차가 클수록 손실함수의 값은 크고 오차가 작을수록 손실함수의 값은 작음\n",
    "#### \"회귀\"와 같이 연속 데이터를 사용하는 경우에는 \"평균제곱오차\"를 사용\n",
    "#### \"분류\"에서는 크로스 엔트로피를 주로 사용\n",
    "#### 딥러닝의 학습과정은 손실함수의 값이 최소화되는 지점의 가중치와 편향을 찾는것이 목적임\n",
    "\n",
    "#### < 손실 함수로 사용되는 함수들 >\n",
    "#### 1. MSE(Mean Squared Error): 평균제곱오차 - 연속현변수를 예측할 때 사용\n",
    "####  - compile()함수에서 loss속성에 \"mse\"라고 작성하여 사용\n",
    "\n",
    "#### 2.Categorical Crossentropy\n",
    "####  - 딥러닝에서 다중 분류시에 사용\n",
    "####  - target 데이터의 형태가 원핫인코딩된 형태인 경우 사용\n",
    "\n",
    "#### 3. Binary Crossentropy\n",
    "####  - target 데이터의 분류형태가 0 또는 1과 같은 이진분류시 사용\n",
    "####  - 출력층의 활성화함수로 시그모이드(sigmoid)함수를 사용\n",
    "\n",
    "#### 4.Sparse Categorical Crossentropy\n",
    "####  - target 데이터의 형태가 0,1,2,...와 같은 숫자형태인 경우 사용\n",
    "####  - 출력층의 활성화 함수로는 소프트맥스(softmax)함수를 사용\n",
    "\n",
    "### 주로 3,4번을 많이 사용\n",
    "---\n",
    "### <활성화 함수 Activation Function>\n",
    "#### - 손실에 따른 풀력을 담당하는 함수로 종속변수(데이터)를 결정하기 위한 함수\n",
    "#### - 중간 단계의 게층(은닉층)에서는 출력 개수에 맞는 결과를 결정하기 위해 활성화함수가 사용되며\n",
    "#### - 출력단계의 계층(출력층)에서는 최종 target 데이터를 결정하기 위한 활성화함수로 사용됨\n",
    "\n",
    "\n",
    "#### < 사용되는 활성화함수 >\n",
    "#### 1. Sigmoid\n",
    "####  - logistic function이라고도 함\n",
    "####  - 시그모이드 함수의 결과값이 0과 1사이의 값으로 결정됨\n",
    "####  - y의 값이 0.5를 기준으로 05보다 크면 1, 작으면 0으로 결정됨\n",
    "####  - 이진분류시에 주로 사용됨\n",
    "####  - 손실함수는 Binary Crossentropy 사용\n",
    "\n",
    "#### 2. Than(Hypterbolic Tangent)\n",
    "####  - 1에서 -1사이의 값으로 결정됨\n",
    "####  - 0보다 크면 1, 작으면 -1로 결정\n",
    "####  - 시그모니드보다 결정범위가 크기에 학습이 효율적이라고 평함\n",
    "\n",
    "#### 3.Relu(Rectified Linear Unit)\n",
    "####  - 0과 1의 값으로 처리\n",
    "####  - 0보다 작으면 모두 0, 0보다 크면 1로 처리함\n",
    "####  - 0보다 작은 값이 발생하지 않는다는 장점이 있음\n",
    "####  - 중간계층에 주로 사용\n",
    "\n",
    "#### 4. Softmax\n",
    "####  - 0.0에서 1.0사이의 실수의 범위로 사용\n",
    "####  - 여러개의 target값중에 가장 높은 결정값을 선택하게 되며 여러개의 target값 들은 0.1~1.0사이의 확률로 나타남\n",
    "####  - target 값의 모든 값의 합은 1.0이 됨\n",
    "####  - 출력층에 주로 사용\n",
    "####  - 손실계수로는 Sparse Categorical Crossentropy가 사용됨\n",
    "\n",
    "#### 5.Leaky Relu\n",
    "#### -Relu의 향상됨 모델로 0보다 작은 값들을 허용하게 하여 훈련의 효율을  높였음\n",
    "---\n",
    "\n",
    "### 딥러닝 계층(layer)을 사용하는 방법\n",
    "#### 1. 다른 누군가가 만들어 놓은 모델을 그대로 사용\n",
    "#### 2. 계층을 추가 또는 제거하면서\n",
    "#### 3. 사용하는 데이터에 가장 적합한(정확도가 높은) 모델을 완성\n",
    "\n",
    "---\n",
    "### 전처리 계층(layer)사용하기\n"
   ]
  },
  {
   "cell_type": "code",
   "execution_count": 78,
   "id": "eb5ff599",
   "metadata": {},
   "outputs": [],
   "source": [
    "# 모델생성"
   ]
  },
  {
   "cell_type": "code",
   "execution_count": 86,
   "id": "ce7393d5",
   "metadata": {},
   "outputs": [],
   "source": [
    "model = keras.Sequential()"
   ]
  },
  {
   "cell_type": "markdown",
   "id": "501615c6",
   "metadata": {},
   "source": [
    "### 전처리계층 추가하기\n",
    "#### 훈련에 사용되지 않음\n",
    "####  - Flatten()\n",
    "####  - 1차원으로 만들어주는 계층\n",
    "####  - 입력차원을 모두 일렬로 펼치는 역할 수행\n",
    "####  - 입력에 곱해지는 가중치나 절편이 없음\n",
    "####  - 인공신경망의 성능에 기여하지 않음(훈련에 사용되지 않음의 의미)\n",
    "####  - 입력층과 은닉층 사이에 위치함\n",
    "####  - 보통 입력층 바로 뒤에 위치하는 것이 일반적임"
   ]
  },
  {
   "cell_type": "code",
   "execution_count": 88,
   "id": "690a4db2",
   "metadata": {},
   "outputs": [],
   "source": [
    "model.add(keras.layers.Flatten(input_shape=(28,28)))"
   ]
  },
  {
   "cell_type": "code",
   "execution_count": null,
   "id": "c0052b22",
   "metadata": {},
   "outputs": [],
   "source": [
    "### 은닉계층(hidden layer) 추가하기"
   ]
  },
  {
   "cell_type": "code",
   "execution_count": 89,
   "id": "5972e090",
   "metadata": {},
   "outputs": [],
   "source": [
    "model.add(keras.layers.Dense(100, activation='relu'))"
   ]
  },
  {
   "cell_type": "code",
   "execution_count": null,
   "id": "da2f4e86",
   "metadata": {},
   "outputs": [],
   "source": [
    "### 출력계층(output layer) 추가하기"
   ]
  },
  {
   "cell_type": "code",
   "execution_count": 91,
   "id": "599aed4f",
   "metadata": {},
   "outputs": [],
   "source": [
    "model.add(keras.layers.Dense(10, activation='softmax'))"
   ]
  },
  {
   "cell_type": "code",
   "execution_count": 96,
   "id": "ac7bbcdf",
   "metadata": {},
   "outputs": [
    {
     "name": "stdout",
     "output_type": "stream",
     "text": [
      "Model: \"sequential_9\"\n",
      "_________________________________________________________________\n",
      " Layer (type)                Output Shape              Param #   \n",
      "=================================================================\n",
      " flatten (Flatten)           (None, 784)               0         \n",
      "                                                                 \n",
      " dense_9 (Dense)             (None, 100)               78500     \n",
      "                                                                 \n",
      " dense_10 (Dense)            (None, 10)                1010      \n",
      "                                                                 \n",
      "=================================================================\n",
      "Total params: 79,510\n",
      "Trainable params: 79,510\n",
      "Non-trainable params: 0\n",
      "_________________________________________________________________\n"
     ]
    }
   ],
   "source": [
    "model.summary()"
   ]
  },
  {
   "cell_type": "markdown",
   "id": "0685a20f",
   "metadata": {},
   "source": [
    "### 실습하기"
   ]
  },
  {
   "cell_type": "code",
   "execution_count": 93,
   "id": "1b60ef73",
   "metadata": {},
   "outputs": [
    {
     "data": {
      "text/plain": [
       "((60000, 28, 28), (10000, 28, 28), (60000,), (10000,))"
      ]
     },
     "execution_count": 93,
     "metadata": {},
     "output_type": "execute_result"
    }
   ],
   "source": [
    "(train_input, train_target), (test_input, test_target) = keras.datasets.fashion_mnist.load_data()\n",
    "train_input.shape, test_input.shape, train_target.shape, test_target.shape"
   ]
  },
  {
   "cell_type": "code",
   "execution_count": 94,
   "id": "45e01bda",
   "metadata": {},
   "outputs": [
    {
     "data": {
      "text/plain": [
       "(60000, 28, 28)"
      ]
     },
     "execution_count": 94,
     "metadata": {},
     "output_type": "execute_result"
    }
   ],
   "source": [
    "train_scaled = train_input / 255.0\n",
    "train_scaled.shape"
   ]
  },
  {
   "cell_type": "code",
   "execution_count": 95,
   "id": "d032ce3e",
   "metadata": {},
   "outputs": [
    {
     "data": {
      "text/plain": [
       "((48000, 28, 28), (12000, 28, 28), (48000,), (12000,))"
      ]
     },
     "execution_count": 95,
     "metadata": {},
     "output_type": "execute_result"
    }
   ],
   "source": [
    "from sklearn.model_selection import train_test_split\n",
    "train_scaled, val_sclaed, train_target, val_target = train_test_split(train_scaled, train_target, test_size=0.2, random_state=42)\n",
    "train_scaled.shape, val_sclaed.shape, train_target.shape, val_target.shape"
   ]
  },
  {
   "cell_type": "markdown",
   "id": "9be83f1d",
   "metadata": {},
   "source": [
    "### 컴파일 : 훈련모델 손실함수 설정"
   ]
  },
  {
   "cell_type": "code",
   "execution_count": 97,
   "id": "b58a2c5e",
   "metadata": {},
   "outputs": [],
   "source": [
    "model.compile(loss='sparse_categorical_crossentropy',\n",
    "             metrics='accuracy')"
   ]
  },
  {
   "cell_type": "markdown",
   "id": "5e7b55bf",
   "metadata": {},
   "source": [
    "### 훈련하기"
   ]
  },
  {
   "cell_type": "code",
   "execution_count": 98,
   "id": "4202236d",
   "metadata": {},
   "outputs": [
    {
     "name": "stdout",
     "output_type": "stream",
     "text": [
      "Epoch 1/5\n",
      "1500/1500 [==============================] - 1s 551us/step - loss: 0.5329 - accuracy: 0.8126\n",
      "Epoch 2/5\n",
      "1500/1500 [==============================] - 1s 554us/step - loss: 0.3903 - accuracy: 0.8603\n",
      "Epoch 3/5\n",
      "1500/1500 [==============================] - 1s 543us/step - loss: 0.3548 - accuracy: 0.8727\n",
      "Epoch 4/5\n",
      "1500/1500 [==============================] - 1s 531us/step - loss: 0.3353 - accuracy: 0.8796\n",
      "Epoch 5/5\n",
      "1500/1500 [==============================] - 1s 538us/step - loss: 0.3191 - accuracy: 0.8854\n"
     ]
    },
    {
     "data": {
      "text/plain": [
       "<keras.callbacks.History at 0x20c8a500730>"
      ]
     },
     "execution_count": 98,
     "metadata": {},
     "output_type": "execute_result"
    }
   ],
   "source": [
    "model.fit(train_scaled, train_target, epochs=5)"
   ]
  },
  {
   "cell_type": "markdown",
   "id": "96bb9b59",
   "metadata": {},
   "source": [
    "###  검증하기"
   ]
  },
  {
   "cell_type": "code",
   "execution_count": 100,
   "id": "15ba2485",
   "metadata": {},
   "outputs": [
    {
     "name": "stdout",
     "output_type": "stream",
     "text": [
      "375/375 [==============================] - 0s 534us/step - loss: 0.3517 - accuracy: 0.8802\n"
     ]
    },
    {
     "data": {
      "text/plain": [
       "[0.3516687750816345, 0.8801666498184204]"
      ]
     },
     "execution_count": 100,
     "metadata": {},
     "output_type": "execute_result"
    }
   ],
   "source": [
    "scores = model.evaluate(val_sclaed, val_target)\n",
    "scores"
   ]
  },
  {
   "cell_type": "markdown",
   "id": "ad72f4cd",
   "metadata": {},
   "source": [
    "###  옵티마이저를 이용한 모델 클래스 설정\n",
    "#### < 옵티마이저 - Optimizer >\n",
    "#### - 딥러닝에서 빠르고 정확하게 학습하는 것을 목표로 나온 속성\n",
    "#### - 주로 경사하강법(Gradient Descent Algorithm)기반의 알고리즘을 지정\n",
    "#### - 경사하강법의 옵티마이저 : SGD기반으로 딥러닝 모델들이 향상되고 있음\n",
    "#### - 다양한 경사하강법 알고리즘이 있음\n",
    "#### - compile()함수에 설정함\n",
    "---\n",
    "#### 학습율(learning_rate)\n",
    "#### - 기본값은 0.01, 값이 작을수록 훈련시간이 오래 걸림\n",
    "#### - 값이 커질수록 훈련강도가 낮아지게 됨\n",
    "#### - 가중치를 최적화하는데 있어서 학습율의 값은 매우 중요하게 작용됨\n",
    "#### - 학습율의 값은 하이퍼파라미터 튜닝을 통해 찾아내며 작성할수도 있음\n",
    "#### - 학습율은 경사를 내려오면서 얼마만큼 이동할 것인지를 결정하는 것임(예: 사람의 걷는 보폭)\n",
    "---\n",
    "### 모멘텀(momentum)\n",
    "#### - 학습율과 동일하게 최적화 알고리즘임\n",
    "#### - 물리학에서 사용하는 운동량과 동력을 뜻함\n",
    "#### - 랜덤하게 지그재그로 내려오면서 최적화(최단경사 이동거리)되는 것을 해결하기 위해 나온 알고리즘\n",
    "#### - ** 관성과 가속도를 적용한 알고리즘 ** -\n",
    "#### - 이동하던 한 방향으로 좀 더 이동할 수 있도록 하기 위해 적용된 개념\n",
    "\n",
    "#### < 모멘텀 주요 특징>\n",
    "#### - 현재 이동하는 방향과는 별개로 과거에 이동했던 방향을 기억하고 있음\n",
    "#### - 과거의 방향으로 일정량(학습율)을 추가하여 이동을 하게 됨\n",
    "#### - 기존 데이터를 기억하고 있어야 하므로 메모리 사용량이 많아지는 단점이 있음\n",
    "\n",
    "####  nesterov(네스테로프)\n",
    "#### -모멘텀 최적화의 변종 알고리즘\n",
    "#### - 현재 위치가 아니라 모멘텀의 조금 미리 앞서서 경사를 계산\n",
    "---\n",
    "\n",
    "### 적응적 학습율(adaptive learning rate) - 학습율을 자동 조정\n",
    "#### - 모델이 최적점(목표하는 지점)에 다달았을 때 학습률(보폭)을 낮추게 되면 안정적으로 최적점에 도달(수렴)할 것이라는 가능성이 높아진다는 개념에서 나온 알고리즘\n",
    "#### - 케라스 모델이 자동으로 학습율을 조정하게 됨\n",
    "#### - 학습율을 자동으로 조정하는 것을 \"조정적 학습율\"이라고 함  - 사람이 직접 처리해 주지 않아도 됨\n",
    "#### - 적응적 학습율의 기본 학습율은 0.01임\n",
    "#### - 적응적 학습율 알고리즘 : adagrad, rmsprop(기본 학습법), adam 등\n",
    "---\n",
    "###"
   ]
  },
  {
   "cell_type": "code",
   "execution_count": 107,
   "id": "28f43573",
   "metadata": {},
   "outputs": [],
   "source": [
    "# 경사하강법을 적용\n",
    "model.compile(optimizer='sgd', \n",
    "              loss='sparse_categorical_crossentropy',\n",
    "             metrics='accuracy')\n",
    "\n",
    "# 위와 동일\n",
    "sgd = keras.optimizers.SGD(learning_rate=0.1)\n",
    "\n",
    "# 모멘텀 학습율\n",
    "sgd = keras.optimizers.SGD(momentum=0.9, nesterov=True)\n",
    "\n",
    "adagrad = keras.optimizers.Adagrad()\n",
    "\n",
    "rmsprop = keras.optimizers.RMSprop()\n",
    "\n",
    "adam = keras.optimizers.Adam()\n",
    "\n",
    "model.compile(optimizer=sgd,\n",
    "             loss='sparse_categorical_crossentropy',\n",
    "             metrics='accuracy')\n",
    "\n",
    "model.compile(optimizer=adagrad,\n",
    "             loss='sparse_categorical_crossentropy',\n",
    "             metrics='accuracy')\n",
    "\n",
    "model.compile(optimizer=rmsprop,\n",
    "             loss='sparse_categorical_crossentropy',\n",
    "             metrics='accuracy')\n",
    "\n",
    "model.compile(optimizer=adam,\n",
    "             loss='sparse_categorical_crossentropy',\n",
    "             metrics='accuracy')"
   ]
  },
  {
   "cell_type": "markdown",
   "id": "ace0a099",
   "metadata": {},
   "source": [
    "###  인공신경망 모델 생성\n",
    "#### 1.모델 생성"
   ]
  },
  {
   "cell_type": "code",
   "execution_count": 113,
   "id": "6801532e",
   "metadata": {},
   "outputs": [],
   "source": [
    "model = keras.Sequential()\n"
   ]
  },
  {
   "cell_type": "markdown",
   "id": "c197b5df",
   "metadata": {},
   "source": [
    "#### 2. 전처리 계층"
   ]
  },
  {
   "cell_type": "code",
   "execution_count": 114,
   "id": "45547df0",
   "metadata": {},
   "outputs": [],
   "source": [
    "model.add(keras.layers.Flatten(input_shape=(28,28)))"
   ]
  },
  {
   "cell_type": "markdown",
   "id": "bdbb2429",
   "metadata": {},
   "source": [
    "#### 3.은닉층 추가"
   ]
  },
  {
   "cell_type": "code",
   "execution_count": 115,
   "id": "11c2560c",
   "metadata": {},
   "outputs": [],
   "source": [
    "model.add(keras.layers.Dense(100, activation='relu'))"
   ]
  },
  {
   "cell_type": "markdown",
   "id": "6dacc061",
   "metadata": {},
   "source": [
    "####  4.출력층 추가"
   ]
  },
  {
   "cell_type": "code",
   "execution_count": 116,
   "id": "e8cd1685",
   "metadata": {},
   "outputs": [],
   "source": [
    "model.add(keras.layers.Dense(10,activation='softmax'))"
   ]
  },
  {
   "cell_type": "markdown",
   "id": "627ab8ce",
   "metadata": {},
   "source": [
    "####  5. 모델구조 확인"
   ]
  },
  {
   "cell_type": "code",
   "execution_count": null,
   "id": "dff59d24",
   "metadata": {},
   "outputs": [],
   "source": []
  },
  {
   "cell_type": "code",
   "execution_count": 112,
   "id": "66331f12",
   "metadata": {},
   "outputs": [
    {
     "name": "stdout",
     "output_type": "stream",
     "text": [
      "Model: \"sequential_10\"\n",
      "_________________________________________________________________\n",
      " Layer (type)                Output Shape              Param #   \n",
      "=================================================================\n",
      " flatten_1 (Flatten)         (None, 784)               0         \n",
      "                                                                 \n",
      " dense_11 (Dense)            (None, 100)               78500     \n",
      "                                                                 \n",
      " dense_12 (Dense)            (None, 10)                1010      \n",
      "                                                                 \n",
      "=================================================================\n",
      "Total params: 79,510\n",
      "Trainable params: 79,510\n",
      "Non-trainable params: 0\n",
      "_________________________________________________________________\n"
     ]
    }
   ],
   "source": [
    "model.summary()"
   ]
  },
  {
   "cell_type": "markdown",
   "id": "425c69a7",
   "metadata": {},
   "source": [
    "#### 6.컴파일\n",
    "#### - adam 적응적 학습율을 적용\n",
    "#### - adam : 방향과 학습율 두가지 모두를 적절하게 처리하기 위한 알고리즘\n",
    "#### - 옵티마이저로 가장 먼저 적용하는것이 좋음"
   ]
  },
  {
   "cell_type": "code",
   "execution_count": 118,
   "id": "c7865219",
   "metadata": {},
   "outputs": [],
   "source": [
    "model.compile(optimizer='adam',\n",
    "             loss='sparse_categorical_crossentropy',\n",
    "             metrics='accuracy')"
   ]
  },
  {
   "cell_type": "markdown",
   "id": "86751a54",
   "metadata": {},
   "source": [
    "#### 7.모델훈련"
   ]
  },
  {
   "cell_type": "code",
   "execution_count": 119,
   "id": "348a730a",
   "metadata": {},
   "outputs": [
    {
     "name": "stdout",
     "output_type": "stream",
     "text": [
      "Epoch 1/5\n",
      "1500/1500 [==============================] - 1s 481us/step - loss: 0.5205 - accuracy: 0.8167\n",
      "Epoch 2/5\n",
      "1500/1500 [==============================] - 1s 488us/step - loss: 0.3918 - accuracy: 0.8598\n",
      "Epoch 3/5\n",
      "1500/1500 [==============================] - 1s 469us/step - loss: 0.3519 - accuracy: 0.8720\n",
      "Epoch 4/5\n",
      "1500/1500 [==============================] - 1s 477us/step - loss: 0.3253 - accuracy: 0.8818\n",
      "Epoch 5/5\n",
      "1500/1500 [==============================] - 1s 480us/step - loss: 0.3056 - accuracy: 0.8886\n"
     ]
    },
    {
     "data": {
      "text/plain": [
       "<keras.callbacks.History at 0x20c8a31fa30>"
      ]
     },
     "execution_count": 119,
     "metadata": {},
     "output_type": "execute_result"
    }
   ],
   "source": [
    "model.fit(train_scaled, train_target, epochs=5)"
   ]
  },
  {
   "cell_type": "markdown",
   "id": "98144535",
   "metadata": {},
   "source": [
    "#### 8.모델검증"
   ]
  },
  {
   "cell_type": "code",
   "execution_count": 121,
   "id": "7c594196",
   "metadata": {},
   "outputs": [
    {
     "name": "stdout",
     "output_type": "stream",
     "text": [
      "375/375 [==============================] - 0s 384us/step - loss: 0.3739 - accuracy: 0.8670\n"
     ]
    },
    {
     "data": {
      "text/plain": [
       "[0.3739257752895355, 0.8669999837875366]"
      ]
     },
     "execution_count": 121,
     "metadata": {},
     "output_type": "execute_result"
    }
   ],
   "source": [
    "scores = model.evaluate(val_sclaed, val_target)\n",
    "scores"
   ]
  },
  {
   "cell_type": "markdown",
   "id": "cd20ceff",
   "metadata": {},
   "source": [
    "#### 옵티마이저 3가지를 처리하면서 최저손실율과 최대 정확도를 찾아보기"
   ]
  },
  {
   "cell_type": "code",
   "execution_count": 126,
   "id": "07fcb012",
   "metadata": {},
   "outputs": [],
   "source": [
    "def getbesteval(opt, epoch):\n",
    "    model = keras.Sequential()\n",
    "    model.add(keras.layers.Flatten(input_shape=(28,28)))\n",
    "    model.add(keras.layers.Dense(100, activation='relu'))\n",
    "    model.add(keras.layers.Dense(10,activation='softmax'))\n",
    "    model.compile(optimizer=opt,\n",
    "                 loss='sparse_categorical_crossentropy',\n",
    "                 metrics='accuracy')\n",
    "    model.fit(train_scaled, train_target, epochs=epoch)\n",
    "    rs_eval = model.evaluate(val_sclaed, val_target)\n",
    "    return rs_eval"
   ]
  },
  {
   "cell_type": "code",
   "execution_count": 127,
   "id": "6a17c633",
   "metadata": {},
   "outputs": [
    {
     "name": "stdout",
     "output_type": "stream",
     "text": [
      "Epoch 1/2\n",
      "1500/1500 [==============================] - 1s 487us/step - loss: 1.1690 - accuracy: 0.6516\n",
      "Epoch 2/2\n",
      "1500/1500 [==============================] - 1s 495us/step - loss: 0.7833 - accuracy: 0.7484\n",
      "375/375 [==============================] - 0s 387us/step - loss: 0.7408 - accuracy: 0.7580\n",
      "opt= adagrad | rs = [0.740838885307312, 0.7580000162124634]\n",
      "best_loss_opt = adagrad | best_loss =  0.740838885307312 | rs[0] =  0.740838885307312\n",
      "Epoch 1/2\n",
      "1500/1500 [==============================] - 1s 541us/step - loss: 0.5344 - accuracy: 0.8104\n",
      "Epoch 2/2\n",
      "1500/1500 [==============================] - 1s 526us/step - loss: 0.3909 - accuracy: 0.8591\n",
      "375/375 [==============================] - 0s 390us/step - loss: 0.3645 - accuracy: 0.8706\n",
      "opt= rmsprop | rs = [0.3645346760749817, 0.8705833554267883]\n",
      "best_loss_opt = rmsprop | best_loss =  0.3645346760749817 | rs[0] =  0.3645346760749817\n",
      "Epoch 1/2\n",
      "1500/1500 [==============================] - 1s 478us/step - loss: 0.5271 - accuracy: 0.8161\n",
      "Epoch 2/2\n",
      "1500/1500 [==============================] - 1s 479us/step - loss: 0.3985 - accuracy: 0.8584\n",
      "375/375 [==============================] - 0s 376us/step - loss: 0.3846 - accuracy: 0.8618\n",
      "opt= adam | rs = [0.3845868706703186, 0.8618333339691162]\n",
      " 0.0 / rmsprop 0.3645346760749817\n"
     ]
    }
   ],
   "source": [
    "optimizer = ['adagrad','rmsprop','adam']\n",
    "best_eval = 0.0\n",
    "best_opt = \"\"\n",
    "\n",
    "best_loss = 1.0\n",
    "best_loss_opt =\"\"\n",
    "\n",
    "for opt in optimizer:\n",
    "    rs = getbesteval(opt,2)\n",
    "    print(\"opt=\", opt, \"| rs =\",rs)\n",
    "    \n",
    "    # 가장 낮은 손실율과 이때 옵티마이저 확인하기\n",
    "    if best_loss > rs[0]:\n",
    "        best_loss = rs[0]\n",
    "        best_loss_opt = opt\n",
    "        print(\"best_loss_opt =\", best_loss_opt,\n",
    "             \"| best_loss = \",best_loss,\n",
    "             \"| rs[0] = \", rs[0])\n",
    "\n",
    "    # 가장 높은 손실율과 이때 옵티마이저 확인하기\n",
    "    if best_loss > rs[1]:\n",
    "        best_loss = rs[1]\n",
    "        best_loss_opt = opt\n",
    "        print(\"best_loss_opt =\", best_loss_opt,\n",
    "             \"| best_loss = \",best_loss,\n",
    "             \"| rs[1] = \", rs[1])  \n",
    "        \n",
    "print(best_opt, best_eval,\"/\",best_loss_opt, best_loss)"
   ]
  },
  {
   "cell_type": "code",
   "execution_count": null,
   "id": "df946925",
   "metadata": {},
   "outputs": [],
   "source": []
  },
  {
   "cell_type": "code",
   "execution_count": null,
   "id": "da3d09ff",
   "metadata": {},
   "outputs": [],
   "source": []
  },
  {
   "cell_type": "code",
   "execution_count": null,
   "id": "96dd73de",
   "metadata": {},
   "outputs": [],
   "source": []
  },
  {
   "cell_type": "code",
   "execution_count": null,
   "id": "a70a6457",
   "metadata": {},
   "outputs": [],
   "source": []
  }
 ],
 "metadata": {
  "kernelspec": {
   "display_name": "all_env_kernel",
   "language": "python",
   "name": "all_env"
  },
  "language_info": {
   "codemirror_mode": {
    "name": "ipython",
    "version": 3
   },
   "file_extension": ".py",
   "mimetype": "text/x-python",
   "name": "python",
   "nbconvert_exporter": "python",
   "pygments_lexer": "ipython3",
   "version": "3.9.16"
  }
 },
 "nbformat": 4,
 "nbformat_minor": 5
}
