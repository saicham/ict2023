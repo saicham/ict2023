{
 "cells": [
  {
   "cell_type": "code",
   "execution_count": 3,
   "id": "5a85dae0",
   "metadata": {},
   "outputs": [],
   "source": [
    "\"\"\"라이브러리\"\"\"\n",
    "import pandas as pd\n",
    "import numpy as np\n",
    "import matplotlib.pyplot as plt\n",
    "import seaborn as sns\n",
    "\n",
    "\"\"\" 데이터 분리 / 독립변수 중요도\"\"\"\n",
    "from sklearn.model_selection import train_test_split, cross_validate\n",
    "from sklearn.inspection import permutation_importance\n",
    "\n",
    "\"\"\"알고리즘 라이브러리\"\"\"\n",
    "from sklearn.ensemble import RandomForestClassifier, GradientBoostingClassifier, ExtraTreesClassifier,HistGradientBoostingClassifier\n",
    "from xgboost import XGBClassifier\n",
    "from lightgbm import LGBMClassifier\n",
    "\n",
    "\"\"\" 모델분류 성능\"\"\"\n",
    "from sklearn.metrics import accuracy_score, precision_score\n",
    "from sklearn.metrics import recall_score, f1_score\n",
    "from sklearn.metrics import confusion_matrix, classification_report\n",
    "# from sklearn.metrics import plo"
   ]
  },
  {
   "cell_type": "markdown",
   "id": "ce5835f0",
   "metadata": {},
   "source": [
    "### 머신러닝에서 사용하는 라이브러리\n",
    "#### 교차검증 : cross_validate\n",
    "#### 특성중요도 : permutation_importance\n",
    "#### 앙상블모델 : RandomForestClassifier, GradientBoostingClassifier, ExtraTreesClassifier,HistGradientBoostingClassifier, LGBMClassifier, XGBClassifier\n",
    "#### 훈련모델 평가  : accuracy_score, precision_score,recall_score, f1_score, confusion_matrix, classification_report"
   ]
  },
  {
   "cell_type": "code",
   "execution_count": 5,
   "id": "5a6e83c2",
   "metadata": {},
   "outputs": [],
   "source": [
    "\"\"\"그래프 한글명 표시 및 마이너스 기호 표시\"\"\"\n",
    "plt.rc('font', family='Malgun Gothic')\n",
    "plt.rcParams['axes.unicode_minus'] = False"
   ]
  },
  {
   "cell_type": "markdown",
   "id": "9a7a57c3",
   "metadata": {},
   "source": [
    "### 데이터 읽어오기 / 전처리 / 분리"
   ]
  },
  {
   "cell_type": "code",
   "execution_count": null,
   "id": "c34a86e5",
   "metadata": {},
   "outputs": [],
   "source": []
  },
  {
   "cell_type": "code",
   "execution_count": null,
   "id": "01f499b0",
   "metadata": {},
   "outputs": [],
   "source": []
  },
  {
   "cell_type": "code",
   "execution_count": null,
   "id": "112c64ff",
   "metadata": {},
   "outputs": [],
   "source": []
  },
  {
   "cell_type": "code",
   "execution_count": null,
   "id": "cc6c5031",
   "metadata": {},
   "outputs": [],
   "source": []
  }
 ],
 "metadata": {
  "kernelspec": {
   "display_name": "sj_prj",
   "language": "python",
   "name": "sj_prj"
  },
  "language_info": {
   "codemirror_mode": {
    "name": "ipython",
    "version": 3
   },
   "file_extension": ".py",
   "mimetype": "text/x-python",
   "name": "python",
   "nbconvert_exporter": "python",
   "pygments_lexer": "ipython3",
   "version": "3.9.16"
  }
 },
 "nbformat": 4,
 "nbformat_minor": 5
}
