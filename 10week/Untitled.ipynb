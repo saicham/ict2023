{
 "cells": [
  {
   "cell_type": "code",
   "execution_count": null,
   "id": "b4c7371e",
   "metadata": {},
   "outputs": [],
   "source": [
    "import pandas as pd\n",
    "import numpy as np"
   ]
  },
  {
   "cell_type": "code",
   "execution_count": null,
   "id": "06815607",
   "metadata": {},
   "outputs": [],
   "source": [
    "df = pd.read_csv('./data/08_wine.csv')\n",
    "df"
   ]
  },
  {
   "cell_type": "code",
   "execution_count": null,
   "id": "af752c0c",
   "metadata": {},
   "outputs": [],
   "source": []
  }
 ],
 "metadata": {
  "kernelspec": {
   "display_name": "sj_prj",
   "language": "python",
   "name": "sj_prj"
  }
 },
 "nbformat": 4,
 "nbformat_minor": 5
}
