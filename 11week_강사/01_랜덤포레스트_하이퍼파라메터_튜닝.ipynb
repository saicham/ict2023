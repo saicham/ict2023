{
 "cells": [
  {
   "cell_type": "markdown",
   "id": "1b2945a8",
   "metadata": {},
   "source": [
    "### 사용할 라이브러리(패키지)"
   ]
  },
  {
   "cell_type": "code",
   "execution_count": 1,
   "id": "12027f8d",
   "metadata": {},
   "outputs": [],
   "source": [
    "### 전처리 라이브러리\n",
    "import pandas as pd\n",
    "import matplotlib.pyplot as plt\n",
    "import seaborn as sns\n",
    "import numpy as np"
   ]
  },
  {
   "cell_type": "code",
   "execution_count": 2,
   "id": "4b39c5f1",
   "metadata": {},
   "outputs": [],
   "source": [
    "### 머신러닝에서 사용하는 라이브러리\n",
    "# 교차검증\n",
    "from sklearn.model_selection import cross_validate\n",
    "# 특성중요도\n",
    "from sklearn.inspection import permutation_importance\n",
    "# 사용할 분류 모델\n",
    "from sklearn.ensemble import RandomForestClassifier"
   ]
  },
  {
   "cell_type": "code",
   "execution_count": 3,
   "id": "173350e7",
   "metadata": {},
   "outputs": [],
   "source": [
    "### 훈련모델 평가를 위한 라이브러리\n",
    "# 정확도\n",
    "from sklearn.metrics import accuracy_score\n",
    "# 정밀도\n",
    "from sklearn.metrics import precision_score\n",
    "# 재현율\n",
    "from sklearn.metrics import recall_score\n",
    "# f1_score\n",
    "from sklearn.metrics import f1_score"
   ]
  },
  {
   "cell_type": "code",
   "execution_count": 4,
   "id": "705864a3",
   "metadata": {},
   "outputs": [],
   "source": [
    "### 예측 정확도 평가를 위한 라이브러리\n",
    "# 혼동행렬 시각화\n",
    "from sklearn.metrics import confusion_matrix\n",
    "from sklearn.metrics import ConfusionMatrixDisplay"
   ]
  },
  {
   "cell_type": "code",
   "execution_count": 5,
   "id": "161d009d",
   "metadata": {},
   "outputs": [],
   "source": [
    "### 한글폰트 설정\n",
    "plt.rc(\"font\", family=\"Malgun Gothic\")\n",
    "\n",
    "### 마이너스(-) 기호 표시 설정\n",
    "plt.rcParams[\"axes.unicode_minus\"] = False"
   ]
  },
  {
   "cell_type": "markdown",
   "id": "918aa7b7",
   "metadata": {},
   "source": [
    "### 데이터 읽어들이기"
   ]
  },
  {
   "cell_type": "code",
   "execution_count": 6,
   "id": "e8388efa",
   "metadata": {},
   "outputs": [
    {
     "name": "stdout",
     "output_type": "stream",
     "text": [
      "<class 'pandas.core.frame.DataFrame'>\n",
      "RangeIndex: 50094 entries, 0 to 50093\n",
      "Data columns (total 4 columns):\n",
      " #   Column   Non-Null Count  Dtype  \n",
      "---  ------   --------------  -----  \n",
      " 0   pH       50094 non-null  float64\n",
      " 1   Temp     50094 non-null  float64\n",
      " 2   Voltage  50094 non-null  float64\n",
      " 3   QC       50094 non-null  int64  \n",
      "dtypes: float64(3), int64(1)\n",
      "memory usage: 1.5 MB\n"
     ]
    },
    {
     "data": {
      "text/html": [
       "<div>\n",
       "<style scoped>\n",
       "    .dataframe tbody tr th:only-of-type {\n",
       "        vertical-align: middle;\n",
       "    }\n",
       "\n",
       "    .dataframe tbody tr th {\n",
       "        vertical-align: top;\n",
       "    }\n",
       "\n",
       "    .dataframe thead th {\n",
       "        text-align: right;\n",
       "    }\n",
       "</style>\n",
       "<table border=\"1\" class=\"dataframe\">\n",
       "  <thead>\n",
       "    <tr style=\"text-align: right;\">\n",
       "      <th></th>\n",
       "      <th>pH</th>\n",
       "      <th>Temp</th>\n",
       "      <th>Voltage</th>\n",
       "      <th>QC</th>\n",
       "    </tr>\n",
       "  </thead>\n",
       "  <tbody>\n",
       "    <tr>\n",
       "      <th>0</th>\n",
       "      <td>2.15</td>\n",
       "      <td>43.15</td>\n",
       "      <td>19.74</td>\n",
       "      <td>0</td>\n",
       "    </tr>\n",
       "  </tbody>\n",
       "</table>\n",
       "</div>"
      ],
      "text/plain": [
       "     pH   Temp  Voltage  QC\n",
       "0  2.15  43.15    19.74   0"
      ]
     },
     "execution_count": 6,
     "metadata": {},
     "output_type": "execute_result"
    }
   ],
   "source": [
    "### 데이터프레임 변수명 : df_data\n",
    "# 사용할 데이터 : final_df.csv\n",
    "file_path = \"./data/final_df.csv\"\n",
    "df_data = pd.read_csv(file_path)\n",
    "df_data.info()\n",
    "df_data.head(1)\n",
    "\n",
    "### 독립변수\n",
    "# pH : 수소이온 농도 지수\n",
    "# Temp : 온도\n",
    "# Voltage : 전압\n",
    "\n",
    "### 종속변수\n",
    "# QC : 품질 측정값(0 or 1)"
   ]
  },
  {
   "cell_type": "markdown",
   "id": "9dc0eb17",
   "metadata": {},
   "source": [
    "### 데이터 분류하기"
   ]
  },
  {
   "cell_type": "code",
   "execution_count": 7,
   "id": "67cc9aa0",
   "metadata": {},
   "outputs": [
    {
     "data": {
      "text/plain": [
       "((50094, 3), (50094,))"
      ]
     },
     "execution_count": 7,
     "metadata": {},
     "output_type": "execute_result"
    }
   ],
   "source": [
    "### 독립변수 : data 변수 사용, numpy 배열로 변환\n",
    "### 종속변수 : target 변수 사용, numpy 배열로 변환\n",
    "\n",
    "data = df_data[[\"pH\", \"Temp\", \"Voltage\"]].to_numpy()\n",
    "target = df_data[\"QC\"].to_numpy()\n",
    "\n",
    "data.shape, target.shape"
   ]
  },
  {
   "cell_type": "code",
   "execution_count": 10,
   "id": "ab3eb13f",
   "metadata": {},
   "outputs": [
    {
     "name": "stdout",
     "output_type": "stream",
     "text": [
      "(40075, 3) (40075,)\n",
      "(10019, 3) (10019,)\n"
     ]
    }
   ],
   "source": [
    "### 훈련데이터와 테스트데이터로 분리하기 (8:2)\n",
    "from sklearn.model_selection import train_test_split\n",
    "\n",
    "train_input, test_input, train_target, test_target = \\\n",
    "    train_test_split(data, target, test_size=0.2, random_state=42)\n",
    "\n",
    "print(train_input.shape, train_target.shape)\n",
    "print(test_input.shape, test_target.shape)"
   ]
  },
  {
   "cell_type": "markdown",
   "id": "dceda699",
   "metadata": {},
   "source": [
    "### 데이터 스케일링(데이터 정규화 및 표준화 )"
   ]
  },
  {
   "cell_type": "code",
   "execution_count": null,
   "id": "e323ff12",
   "metadata": {},
   "outputs": [],
   "source": [
    "\"\"\"\n",
    "[데이터 스케일링]\n",
    " - 서로 다른 변수의 값 범위(단위)를 일정한 수준으로 맞추는 작업\n",
    " - 수치형 변수(컬럼)에만 적용됨\n",
    " - 스케일링 방법 3가지\n",
    "   StandardScaler(정규화), MinMaxScaler(표준화), RobustScaler(로버스트)\n",
    "\n",
    "<표준화 스케일링방법(StandardScaler)>\n",
    " - 변수 x의 원래 값에서 x의 평균(mean)을 뺀 값을,\n",
    "   x의 표준편차(stdev)로 나눈 값으로 계산 됨\n",
    " - 산술식 = (x - mean(x)) / stdev(x)\n",
    " - 주로 분류에서 사용되는 방법\n",
    " \n",
    "<정규화 스케일링방법(MinMaxScaler)>\n",
    " - 서로 다른 변수의 크기(단위)를 통일하기 위해 크기를 변환해주는 방법\n",
    " - 정규화를 통해 변수들이 평등하게 0~1 사이의 값을 가짐\n",
    " - 모델은 어느 특정 변수에 중점을 두기보다는 변수들을 평등하게 바라보고 학습\n",
    " - 회귀에서 주로 사용되는 방법\n",
    " - 변수 x의 원래 값에서 x의 최소값(min)을 뺀 값을,\n",
    "   x의 최대값(max)과 최소값(min)의 차이로 나눈 값으로 계산\n",
    " - 산술식 = (x - min(x)) / (max(x) - min(x))\n",
    "\n",
    "<로버스트 스케일링방법(RobustScaler)>\n",
    " - 데이터의 중앙값 = 0, IQR =1이 되도록 스케일하는 기법\n",
    " - 모든 변수들이 같은 스케일을 갖게 됨\n",
    " - StandardScaler에 비해 스케일링 결과가 더 넓은 범위로 분포하게 됨\n",
    " - 따라서, StandardScaler에 비해 \"이상치\"의 영향이 적어진다는 장점이 있음\n",
    " - 변수 x의 원래 값에서 x의 중앙값(mean)을 뺀 값을,\n",
    "   x의 3분위수(q3)와 1분위수(q1)의 차이(IQR)로 나눈 값으로 계산\n",
    " - 산술식 = (x - mean(x)) / (q3 - q1)\n",
    " - 분류 및 회귀 모두 사용가능\n",
    "\"\"\""
   ]
  },
  {
   "cell_type": "code",
   "execution_count": 12,
   "id": "0f53918d",
   "metadata": {},
   "outputs": [
    {
     "data": {
      "text/plain": [
       "((40075, 3), (10019, 3))"
      ]
     },
     "execution_count": 12,
     "metadata": {},
     "output_type": "execute_result"
    }
   ],
   "source": [
    "### 표준화 스케일링 방법\n",
    "# 사용 라이브러리\n",
    "from sklearn.preprocessing import StandardScaler\n",
    "\n",
    "# 객체 생성\n",
    "ss = StandardScaler()\n",
    "\n",
    "# 훈련-독립변수 데이터 표준화 : 모델이 스스로 데이터 형성\n",
    "ss.fit(train_input)\n",
    "\n",
    "# 훈련 및 테스트 독립변수 데이터를 변환하기\n",
    "train_std_scaler = ss.transform(train_input)\n",
    "test_std_scaler  = ss.transform(test_input)\n",
    "\n",
    "train_std_scaler.shape, test_std_scaler.shape"
   ]
  },
  {
   "cell_type": "code",
   "execution_count": 14,
   "id": "c3d2d2c5",
   "metadata": {},
   "outputs": [
    {
     "data": {
      "text/plain": [
       "((40075, 3), (10019, 3))"
      ]
     },
     "execution_count": 14,
     "metadata": {},
     "output_type": "execute_result"
    }
   ],
   "source": [
    "### 정규화 스케일링 방법\n",
    "from sklearn.preprocessing import MinMaxScaler\n",
    "\n",
    "mm = MinMaxScaler()\n",
    "mm.fit(train_input)\n",
    "train_mm_scaler = mm.transform(train_input)\n",
    "test_mm_scaler  = mm.transform(test_input)\n",
    "\n",
    "train_mm_scaler.shape, test_mm_scaler.shape"
   ]
  },
  {
   "cell_type": "code",
   "execution_count": 16,
   "id": "0c388498",
   "metadata": {},
   "outputs": [
    {
     "data": {
      "text/plain": [
       "((40075, 3), (10019, 3))"
      ]
     },
     "execution_count": 16,
     "metadata": {},
     "output_type": "execute_result"
    }
   ],
   "source": [
    "### 로버스트 스케일러 방법\n",
    "from sklearn.preprocessing import RobustScaler\n",
    "\n",
    "rs = RobustScaler()\n",
    "rs.fit(train_input)\n",
    "train_rs_scaler = rs.transform(train_input)\n",
    "test_rs_scaler  = rs.transform(test_input)\n",
    "\n",
    "train_rs_scaler.shape, test_rs_scaler.shape"
   ]
  },
  {
   "cell_type": "markdown",
   "id": "6e1465fe",
   "metadata": {},
   "source": [
    "### 훈련하기"
   ]
  },
  {
   "cell_type": "code",
   "execution_count": 19,
   "id": "fd528293",
   "metadata": {},
   "outputs": [
    {
     "data": {
      "text/html": [
       "<style>#sk-container-id-1 {color: black;background-color: white;}#sk-container-id-1 pre{padding: 0;}#sk-container-id-1 div.sk-toggleable {background-color: white;}#sk-container-id-1 label.sk-toggleable__label {cursor: pointer;display: block;width: 100%;margin-bottom: 0;padding: 0.3em;box-sizing: border-box;text-align: center;}#sk-container-id-1 label.sk-toggleable__label-arrow:before {content: \"▸\";float: left;margin-right: 0.25em;color: #696969;}#sk-container-id-1 label.sk-toggleable__label-arrow:hover:before {color: black;}#sk-container-id-1 div.sk-estimator:hover label.sk-toggleable__label-arrow:before {color: black;}#sk-container-id-1 div.sk-toggleable__content {max-height: 0;max-width: 0;overflow: hidden;text-align: left;background-color: #f0f8ff;}#sk-container-id-1 div.sk-toggleable__content pre {margin: 0.2em;color: black;border-radius: 0.25em;background-color: #f0f8ff;}#sk-container-id-1 input.sk-toggleable__control:checked~div.sk-toggleable__content {max-height: 200px;max-width: 100%;overflow: auto;}#sk-container-id-1 input.sk-toggleable__control:checked~label.sk-toggleable__label-arrow:before {content: \"▾\";}#sk-container-id-1 div.sk-estimator input.sk-toggleable__control:checked~label.sk-toggleable__label {background-color: #d4ebff;}#sk-container-id-1 div.sk-label input.sk-toggleable__control:checked~label.sk-toggleable__label {background-color: #d4ebff;}#sk-container-id-1 input.sk-hidden--visually {border: 0;clip: rect(1px 1px 1px 1px);clip: rect(1px, 1px, 1px, 1px);height: 1px;margin: -1px;overflow: hidden;padding: 0;position: absolute;width: 1px;}#sk-container-id-1 div.sk-estimator {font-family: monospace;background-color: #f0f8ff;border: 1px dotted black;border-radius: 0.25em;box-sizing: border-box;margin-bottom: 0.5em;}#sk-container-id-1 div.sk-estimator:hover {background-color: #d4ebff;}#sk-container-id-1 div.sk-parallel-item::after {content: \"\";width: 100%;border-bottom: 1px solid gray;flex-grow: 1;}#sk-container-id-1 div.sk-label:hover label.sk-toggleable__label {background-color: #d4ebff;}#sk-container-id-1 div.sk-serial::before {content: \"\";position: absolute;border-left: 1px solid gray;box-sizing: border-box;top: 0;bottom: 0;left: 50%;z-index: 0;}#sk-container-id-1 div.sk-serial {display: flex;flex-direction: column;align-items: center;background-color: white;padding-right: 0.2em;padding-left: 0.2em;position: relative;}#sk-container-id-1 div.sk-item {position: relative;z-index: 1;}#sk-container-id-1 div.sk-parallel {display: flex;align-items: stretch;justify-content: center;background-color: white;position: relative;}#sk-container-id-1 div.sk-item::before, #sk-container-id-1 div.sk-parallel-item::before {content: \"\";position: absolute;border-left: 1px solid gray;box-sizing: border-box;top: 0;bottom: 0;left: 50%;z-index: -1;}#sk-container-id-1 div.sk-parallel-item {display: flex;flex-direction: column;z-index: 1;position: relative;background-color: white;}#sk-container-id-1 div.sk-parallel-item:first-child::after {align-self: flex-end;width: 50%;}#sk-container-id-1 div.sk-parallel-item:last-child::after {align-self: flex-start;width: 50%;}#sk-container-id-1 div.sk-parallel-item:only-child::after {width: 0;}#sk-container-id-1 div.sk-dashed-wrapped {border: 1px dashed gray;margin: 0 0.4em 0.5em 0.4em;box-sizing: border-box;padding-bottom: 0.4em;background-color: white;}#sk-container-id-1 div.sk-label label {font-family: monospace;font-weight: bold;display: inline-block;line-height: 1.2em;}#sk-container-id-1 div.sk-label-container {text-align: center;}#sk-container-id-1 div.sk-container {/* jupyter's `normalize.less` sets `[hidden] { display: none; }` but bootstrap.min.css set `[hidden] { display: none !important; }` so we also need the `!important` here to be able to override the default hidden behavior on the sphinx rendered scikit-learn.org. See: https://github.com/scikit-learn/scikit-learn/issues/21755 */display: inline-block !important;position: relative;}#sk-container-id-1 div.sk-text-repr-fallback {display: none;}</style><div id=\"sk-container-id-1\" class=\"sk-top-container\"><div class=\"sk-text-repr-fallback\"><pre>RandomForestClassifier(n_jobs=-1, random_state=42)</pre><b>In a Jupyter environment, please rerun this cell to show the HTML representation or trust the notebook. <br />On GitHub, the HTML representation is unable to render, please try loading this page with nbviewer.org.</b></div><div class=\"sk-container\" hidden><div class=\"sk-item\"><div class=\"sk-estimator sk-toggleable\"><input class=\"sk-toggleable__control sk-hidden--visually\" id=\"sk-estimator-id-1\" type=\"checkbox\" checked><label for=\"sk-estimator-id-1\" class=\"sk-toggleable__label sk-toggleable__label-arrow\">RandomForestClassifier</label><div class=\"sk-toggleable__content\"><pre>RandomForestClassifier(n_jobs=-1, random_state=42)</pre></div></div></div></div></div>"
      ],
      "text/plain": [
       "RandomForestClassifier(n_jobs=-1, random_state=42)"
      ]
     },
     "execution_count": 19,
     "metadata": {},
     "output_type": "execute_result"
    }
   ],
   "source": [
    "### 램덤포레스트 사용\n",
    "# n_jobs : -1은 cpu의 모든 코어 사용 \n",
    "# 클래스(모델) 생성\n",
    "rf = RandomForestClassifier(n_jobs=-1, random_state=42)\n",
    "rf"
   ]
  },
  {
   "cell_type": "code",
   "execution_count": 20,
   "id": "7aa1367b",
   "metadata": {},
   "outputs": [
    {
     "data": {
      "text/html": [
       "<style>#sk-container-id-2 {color: black;background-color: white;}#sk-container-id-2 pre{padding: 0;}#sk-container-id-2 div.sk-toggleable {background-color: white;}#sk-container-id-2 label.sk-toggleable__label {cursor: pointer;display: block;width: 100%;margin-bottom: 0;padding: 0.3em;box-sizing: border-box;text-align: center;}#sk-container-id-2 label.sk-toggleable__label-arrow:before {content: \"▸\";float: left;margin-right: 0.25em;color: #696969;}#sk-container-id-2 label.sk-toggleable__label-arrow:hover:before {color: black;}#sk-container-id-2 div.sk-estimator:hover label.sk-toggleable__label-arrow:before {color: black;}#sk-container-id-2 div.sk-toggleable__content {max-height: 0;max-width: 0;overflow: hidden;text-align: left;background-color: #f0f8ff;}#sk-container-id-2 div.sk-toggleable__content pre {margin: 0.2em;color: black;border-radius: 0.25em;background-color: #f0f8ff;}#sk-container-id-2 input.sk-toggleable__control:checked~div.sk-toggleable__content {max-height: 200px;max-width: 100%;overflow: auto;}#sk-container-id-2 input.sk-toggleable__control:checked~label.sk-toggleable__label-arrow:before {content: \"▾\";}#sk-container-id-2 div.sk-estimator input.sk-toggleable__control:checked~label.sk-toggleable__label {background-color: #d4ebff;}#sk-container-id-2 div.sk-label input.sk-toggleable__control:checked~label.sk-toggleable__label {background-color: #d4ebff;}#sk-container-id-2 input.sk-hidden--visually {border: 0;clip: rect(1px 1px 1px 1px);clip: rect(1px, 1px, 1px, 1px);height: 1px;margin: -1px;overflow: hidden;padding: 0;position: absolute;width: 1px;}#sk-container-id-2 div.sk-estimator {font-family: monospace;background-color: #f0f8ff;border: 1px dotted black;border-radius: 0.25em;box-sizing: border-box;margin-bottom: 0.5em;}#sk-container-id-2 div.sk-estimator:hover {background-color: #d4ebff;}#sk-container-id-2 div.sk-parallel-item::after {content: \"\";width: 100%;border-bottom: 1px solid gray;flex-grow: 1;}#sk-container-id-2 div.sk-label:hover label.sk-toggleable__label {background-color: #d4ebff;}#sk-container-id-2 div.sk-serial::before {content: \"\";position: absolute;border-left: 1px solid gray;box-sizing: border-box;top: 0;bottom: 0;left: 50%;z-index: 0;}#sk-container-id-2 div.sk-serial {display: flex;flex-direction: column;align-items: center;background-color: white;padding-right: 0.2em;padding-left: 0.2em;position: relative;}#sk-container-id-2 div.sk-item {position: relative;z-index: 1;}#sk-container-id-2 div.sk-parallel {display: flex;align-items: stretch;justify-content: center;background-color: white;position: relative;}#sk-container-id-2 div.sk-item::before, #sk-container-id-2 div.sk-parallel-item::before {content: \"\";position: absolute;border-left: 1px solid gray;box-sizing: border-box;top: 0;bottom: 0;left: 50%;z-index: -1;}#sk-container-id-2 div.sk-parallel-item {display: flex;flex-direction: column;z-index: 1;position: relative;background-color: white;}#sk-container-id-2 div.sk-parallel-item:first-child::after {align-self: flex-end;width: 50%;}#sk-container-id-2 div.sk-parallel-item:last-child::after {align-self: flex-start;width: 50%;}#sk-container-id-2 div.sk-parallel-item:only-child::after {width: 0;}#sk-container-id-2 div.sk-dashed-wrapped {border: 1px dashed gray;margin: 0 0.4em 0.5em 0.4em;box-sizing: border-box;padding-bottom: 0.4em;background-color: white;}#sk-container-id-2 div.sk-label label {font-family: monospace;font-weight: bold;display: inline-block;line-height: 1.2em;}#sk-container-id-2 div.sk-label-container {text-align: center;}#sk-container-id-2 div.sk-container {/* jupyter's `normalize.less` sets `[hidden] { display: none; }` but bootstrap.min.css set `[hidden] { display: none !important; }` so we also need the `!important` here to be able to override the default hidden behavior on the sphinx rendered scikit-learn.org. See: https://github.com/scikit-learn/scikit-learn/issues/21755 */display: inline-block !important;position: relative;}#sk-container-id-2 div.sk-text-repr-fallback {display: none;}</style><div id=\"sk-container-id-2\" class=\"sk-top-container\"><div class=\"sk-text-repr-fallback\"><pre>RandomForestClassifier(n_jobs=-1, random_state=42)</pre><b>In a Jupyter environment, please rerun this cell to show the HTML representation or trust the notebook. <br />On GitHub, the HTML representation is unable to render, please try loading this page with nbviewer.org.</b></div><div class=\"sk-container\" hidden><div class=\"sk-item\"><div class=\"sk-estimator sk-toggleable\"><input class=\"sk-toggleable__control sk-hidden--visually\" id=\"sk-estimator-id-2\" type=\"checkbox\" checked><label for=\"sk-estimator-id-2\" class=\"sk-toggleable__label sk-toggleable__label-arrow\">RandomForestClassifier</label><div class=\"sk-toggleable__content\"><pre>RandomForestClassifier(n_jobs=-1, random_state=42)</pre></div></div></div></div></div>"
      ],
      "text/plain": [
       "RandomForestClassifier(n_jobs=-1, random_state=42)"
      ]
     },
     "execution_count": 20,
     "metadata": {},
     "output_type": "execute_result"
    }
   ],
   "source": [
    "### 훈련시키기\n",
    "# 종속변수는 스케일링을 하면 안됨 : 정답 그대로 사용\n",
    "rf.fit(train_std_scaler, train_target)"
   ]
  },
  {
   "cell_type": "code",
   "execution_count": 21,
   "id": "14187099",
   "metadata": {},
   "outputs": [
    {
     "data": {
      "text/plain": [
       "(0.999825327510917, 0.9871244635193133)"
      ]
     },
     "execution_count": 21,
     "metadata": {},
     "output_type": "execute_result"
    }
   ],
   "source": [
    "###  훈련 정확도와 테스트 정확도 확인하기\n",
    "train_score = rf.score(train_std_scaler, train_target)\n",
    "test_score  = rf.score(test_std_scaler, test_target)\n",
    "\n",
    "train_score, test_score\n",
    "\n",
    "### 해석\n",
    "# - 과소적합이 일어나지 않았으며,\n",
    "# - 0.01 정도의 차이로 \n",
    "# - 성능이 매우 좋은 모델로 해석 할 수 있음"
   ]
  },
  {
   "cell_type": "markdown",
   "id": "5d327b4f",
   "metadata": {},
   "source": [
    "### 예측 하기"
   ]
  },
  {
   "cell_type": "code",
   "execution_count": 22,
   "id": "820277b2",
   "metadata": {},
   "outputs": [
    {
     "data": {
      "text/plain": [
       "array([0, 0, 0, ..., 0, 0, 0], dtype=int64)"
      ]
     },
     "execution_count": 22,
     "metadata": {},
     "output_type": "execute_result"
    }
   ],
   "source": [
    "y_perd = rf.predict(test_std_scaler)\n",
    "y_perd"
   ]
  },
  {
   "cell_type": "markdown",
   "id": "ada6d0e4",
   "metadata": {},
   "source": [
    "### 예측 평가하기"
   ]
  },
  {
   "cell_type": "code",
   "execution_count": null,
   "id": "0d68bb25",
   "metadata": {},
   "outputs": [],
   "source": [
    "\"\"\"\n",
    "<예측 평가 방법>\n",
    " - 정확도, 정밀도, 재현율, f1-스코어를 이용해서 평가함\n",
    " - 예측에 오류가 있는지 확인 : 오차행렬(혼동행렬) 시각화를 통해 확인\n",
    "\"\"\""
   ]
  },
  {
   "cell_type": "code",
   "execution_count": 23,
   "id": "2f2d7b98",
   "metadata": {},
   "outputs": [
    {
     "data": {
      "text/plain": [
       "<sklearn.metrics._plot.confusion_matrix.ConfusionMatrixDisplay at 0x20cb6fdaa60>"
      ]
     },
     "execution_count": 23,
     "metadata": {},
     "output_type": "execute_result"
    },
    {
     "data": {
      "image/png": "[encoded data removed]",
      "text/plain": [
       "<Figure size 640x480 with 2 Axes>"
      ]
     },
     "metadata": {},
     "output_type": "display_data"
    }
   ],
   "source": [
    "### 오차행렬(혼동행렬) 시각화 (예측 결과를 이용해 오류 해석 가능)\n",
    "# 오차 평가 매트릭스\n",
    "cm = confusion_matrix(test_target, y_perd, labels=rf.classes_)\n",
    "\n",
    "# 오차 행렬도 데이터 생성\n",
    "disp = ConfusionMatrixDisplay(confusion_matrix=cm, \n",
    "                              display_labels=rf.classes_)\n",
    "\n",
    "# 오차 행렬도 그리기\n",
    "disp.plot()\n",
    "\n",
    "\n",
    "### <오차행렬(혼동행렬) 해석 방법>\n",
    "# - x축은 예측값, y축은 실제값 "
   ]
  },
  {
   "cell_type": "code",
   "execution_count": null,
   "id": "7491f790",
   "metadata": {},
   "outputs": [],
   "source": [
    "\"\"\"\n",
    "<오차행렬(혼동행렬) 시각화>\n",
    " - 어떠 유형의 예측 오류가 발생하고 있는지를 나타내는 자료로 사용됨\n",
    " - 분류 문제에서는 반드시 오차행렬(혼동행렬) 매트릭스를 출력해서 결과를 \n",
    "   해석하고 설명가능해야 함(정확도의 수치를 믿어서는 안됨)\n",
    "\n",
    "<오차행렬(혼동행렬) 해석 방법>\n",
    " - 실제 종속변수값과 예측결과값을 이용\n",
    " - 실제 종속변수값이 Positive(긍정)인지, Negative(부정)인지와\n",
    "   예측값이 Positive(긍정)인지, Negative(부정)인지를 나타냄\n",
    "   \n",
    "<오차행렬(혼동행렬) 시각화 설명>\n",
    " - T는 True를 의미하며, F는 False를 의미함\n",
    "   -> True는 예측값과 실제값이 같은 것 (잘 맞춘것)\n",
    "   -> False는 에측값과 실제값이 다른 것 (잘못 맞춘것)\n",
    " - P는 Positive를 의미하며, N은 Negative를 의미함\n",
    "   -> 예측값을 기준으로 부정(0), 긍정(1)을 의미함\n",
    "\n",
    "<오류 영역 - 예측을 기준으로 P(긍정) or N(부정)을 지정>\n",
    " - False(예측값과 실제값이 다른경우) 이면서, P(긍정)인 경우\n",
    "   -> FP : 예측 결과가 맞지는 않지만, P은 긍정적 오류로 해석\n",
    "         : 위험하지는 않은 오류로 해석 가능\n",
    "\n",
    " - False 이면서, N(부정) 인경우\n",
    "   -> FN : 예측 결과가 맞지는 않지만, N은 부정적 오류로 해석\n",
    "         : 매우 위험한 오류로 해석 가능\n",
    "\n",
    "\"\"\""
   ]
  },
  {
   "cell_type": "code",
   "execution_count": 25,
   "id": "9d85d9cb",
   "metadata": {},
   "outputs": [
    {
     "data": {
      "text/plain": [
       "(0.9871244635193133, 0.0, 0.0, 0.0)"
      ]
     },
     "execution_count": 25,
     "metadata": {},
     "output_type": "execute_result"
    }
   ],
   "source": [
    "### 정확도 확인하기\n",
    "acc = accuracy_score(test_target, y_perd)\n",
    "\n",
    "### 정밀도\n",
    "pre = precision_score(test_target, y_perd, zero_division=0)\n",
    "\n",
    "### 재현율\n",
    "rec = recall_score(test_target, y_perd)\n",
    "\n",
    "### f1-스코어\n",
    "f1 = f1_score(test_target, y_perd)\n",
    "\n",
    "acc, pre, rec, f1\n",
    "\n",
    "### 모든 score의 결과값은 0 ~ 1사이의 값\n",
    "# - 1에 가까울 수록 좋음 : 훈련모델이 좋다라고 판단할 수 있는 지표값\n",
    "# - 0에 가까울 수록 안좋음\n",
    "# - 기본 적으로 재현율(recall)의 값이 높을 수록 좋은 모델로 판단함\n",
    "#   (위 4개의 score 중에 재현율만 확인해도 됨)"
   ]
  },
  {
   "cell_type": "code",
   "execution_count": null,
   "id": "bd94b2d8",
   "metadata": {},
   "outputs": [],
   "source": [
    "\"\"\"\n",
    "<정확도(Accuracy)>\n",
    " - 올바르게 예측된 데이터의 수를, 전체 데이터의 수로 나눈 값\n",
    " - 예측이 정답과 얼마나 정확한가를 의미\n",
    " - 산술식 = (TP + TN) / (TP + TN + FP + FN)\n",
    " \n",
    "<정밀도(Precision)>\n",
    " - 모델이 True로 예측한 데이터 중에 실제로 True인 데이터\n",
    " - 산술식 = TP / (TP + FP)\n",
    " \n",
    "<재현율(Recall)>\n",
    " - 실제로 True인 데이터를 True라고 인식한 데이터 수\n",
    " - 위험한 오류 영역이 포함됨\n",
    " - 산술식 = TP / (TP + FN)\n",
    " \n",
    "<F1-스코어(f1_score)>\n",
    " - Precision(정밀도)과 Recall(재현율)을 조합하여 하나의 통계치를 반환함\n",
    " - 정밀도와 재현율의 평균이라고 생각하시면 됨\n",
    " - F1스코어 값이 높으면, 성능이 높은 모델이라고 판단 할 수 있음\n",
    " - 산술식 = (정밀도 * 재현율) / (정밀도 + 재현율)\n",
    " \n",
    "<최종 모델 판단 방법>\n",
    " - 우선 재현율이 높아야함\n",
    " - 그리고 F1 스코어 값이 높으면 \n",
    " - 좋은 모델로 판단\n",
    "\"\"\""
   ]
  },
  {
   "cell_type": "markdown",
   "id": "3a04d58e",
   "metadata": {},
   "source": [
    "### 하이퍼파라메터 튜닝 "
   ]
  },
  {
   "cell_type": "code",
   "execution_count": null,
   "id": "d1b2947a",
   "metadata": {},
   "outputs": [],
   "source": [
    "### 하이퍼파라메터 \n",
    "# - 모델 생성 시 사용되는 속성값들 중 사람이 직접 입력해야하는 값들을\n",
    "#   하이퍼파라메터라고 칭합니다.\n",
    "\n",
    "### 앙상블 모델은 트리 기반으로 되어 있기에\n",
    "# - 트리 기반의 튜닝이 진행됨\n",
    "\n",
    "### 기본적인 튜닝을 위한 하이퍼파라메터\n",
    "# - 트리갯수, 최대깊이, 분리노드의 최소자료수, 잎사귀노드의 최소자료수"
   ]
  },
  {
   "cell_type": "markdown",
   "id": "411baf37",
   "metadata": {},
   "source": [
    "##### 1. 트리의 갯수 찾기"
   ]
  },
  {
   "cell_type": "code",
   "execution_count": null,
   "id": "f5247e8c",
   "metadata": {},
   "outputs": [
    {
     "name": "stdout",
     "output_type": "stream",
     "text": [
      "훈련정확도 : 테스트정확도 = 0.996756082345602 : 0.9862261702764747\n",
      "훈련정확도 : 테스트정확도 = 0.9967311291328759 : 0.9872242738796287\n",
      "훈련정확도 : 테스트정확도 = 0.9985527136618839 : 0.9869248427986825\n",
      "훈련정확도 : 테스트정확도 = 0.9985277604491578 : 0.9870246531589979\n",
      "훈련정확도 : 테스트정확도 = 0.9993013100436681 : 0.9869248427986825\n",
      "훈련정확도 : 테스트정확도 = 0.9991765439800374 : 0.9869248427986825\n",
      "훈련정확도 : 테스트정확도 = 0.9995508421709295 : 0.9869248427986825\n",
      "훈련정확도 : 테스트정확도 = 0.9994510293200249 : 0.9869248427986825\n",
      "훈련정확도 : 테스트정확도 = 0.9997504678727386 : 0.9870246531589979\n",
      "훈련정확도 : 테스트정확도 = 0.9996007485963818 : 0.9870246531589979\n",
      "훈련정확도 : 테스트정확도 = 0.999650655021834 : 0.9870246531589979\n",
      "훈련정확도 : 테스트정확도 = 0.9997255146600125 : 0.9870246531589979\n",
      "훈련정확도 : 테스트정확도 = 0.9997754210854648 : 0.9870246531589979\n",
      "훈련정확도 : 테스트정확도 = 0.9997754210854648 : 0.9870246531589979\n",
      "훈련정확도 : 테스트정확도 = 0.9998502807236431 : 0.9870246531589979\n",
      "훈련정확도 : 테스트정확도 = 0.999825327510917 : 0.9870246531589979\n",
      "훈련정확도 : 테스트정확도 = 0.9999001871490955 : 0.9872242738796287\n",
      "훈련정확도 : 테스트정확도 = 0.9998752339363693 : 0.9872242738796287\n",
      "훈련정확도 : 테스트정확도 = 0.9998502807236431 : 0.9871244635193133\n",
      "훈련정확도 : 테스트정확도 = 0.999825327510917 : 0.9871244635193133\n",
      "훈련정확도 : 테스트정확도 = 0.999825327510917 : 0.9872242738796287\n",
      "훈련정확도 : 테스트정확도 = 0.9999001871490955 : 0.9872242738796287\n",
      "훈련정확도 : 테스트정확도 = 0.9998752339363693 : 0.9872242738796287\n"
     ]
    }
   ],
   "source": [
    "### 트리의 갯수값을 일정 범위 값으로하여 반복하면서 정확도를 비교 선택함\n",
    "\n",
    "# 트리의 갯수별로 훈련 및 테스트 정확도를 저장할 변수 지정\n",
    "train_score = []\n",
    "test_score  = []\n",
    "\n",
    "# 트리의 갯수 범위 임의로 지정\n",
    "n_estimator_min = 1\n",
    "n_estimator_max = 30\n",
    "\n",
    "# 트리의 갯수를 5씩 증가된 30개 만들기\n",
    "param_n_tree = [n_tree * 5 for n_tree in range(n_estimator_min, \n",
    "                                               n_estimator_max)]\n",
    "# print(param_n_tree)\n",
    "### param_n_tree 각각의 값은 사용할 트리 갯수\n",
    "# - param_n_tree의 리스트 갯수만큼 반복하면서 정확도 확인하기\n",
    "for v_n_estimators in param_n_tree :\n",
    "    # 훈련모델 생성 시 사용할 트리의 갯수 : n_estimators\n",
    "    model = RandomForestClassifier(n_estimators=v_n_estimators,\n",
    "                                   random_state=42)\n",
    "    # 훈련 시키기\n",
    "    model.fit(train_std_scaler, train_target)\n",
    "    \n",
    "    # 훈련 및 테스트 정확도 리스트 변수에 담기\n",
    "    tr_score = model.score(train_std_scaler, train_target)\n",
    "    te_score = model.score(test_std_scaler, test_target)\n",
    "    train_score.append(tr_score)\n",
    "    test_score.append(te_score)\n",
    "    \n",
    "    print(\"훈련정확도 : 테스트정확도 = {} : {}\".format(tr_score,\n",
    "                                                      te_score))\n",
    "    "
   ]
  },
  {
   "cell_type": "code",
   "execution_count": null,
   "id": "6c18e386",
   "metadata": {},
   "outputs": [],
   "source": []
  },
  {
   "cell_type": "code",
   "execution_count": null,
   "id": "8d7673c7",
   "metadata": {},
   "outputs": [],
   "source": []
  },
  {
   "cell_type": "code",
   "execution_count": null,
   "id": "1bc31d90",
   "metadata": {},
   "outputs": [],
   "source": []
  },
  {
   "cell_type": "code",
   "execution_count": null,
   "id": "0dbfe004",
   "metadata": {},
   "outputs": [],
   "source": []
  },
  {
   "cell_type": "code",
   "execution_count": null,
   "id": "ed071ccf",
   "metadata": {},
   "outputs": [],
   "source": []
  }
 ],
 "metadata": {
  "kernelspec": {
   "display_name": "pknu_deep_kernel",
   "language": "python",
   "name": "pknu_deep"
  },
  "language_info": {
   "codemirror_mode": {
    "name": "ipython",
    "version": 3
   },
   "file_extension": ".py",
   "mimetype": "text/x-python",
   "name": "python",
   "nbconvert_exporter": "python",
   "pygments_lexer": "ipython3",
   "version": "3.9.0"
  }
 },
 "nbformat": 4,
 "nbformat_minor": 5
}
